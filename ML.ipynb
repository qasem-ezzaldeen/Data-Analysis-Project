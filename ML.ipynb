{
 "cells": [
  {
   "cell_type": "code",
   "execution_count": 1,
   "metadata": {},
   "outputs": [],
   "source": [
    "import pandas as pd\n",
    "import matplotlib.pyplot as plt\n",
    "import seaborn as sns\n",
    "import plotly.express as px\n",
    "pd.options.mode.chained_assignment = None\n"
   ]
  },
  {
   "cell_type": "code",
   "execution_count": 2,
   "metadata": {},
   "outputs": [
    {
     "data": {
      "text/html": [
       "<div>\n",
       "<style scoped>\n",
       "    .dataframe tbody tr th:only-of-type {\n",
       "        vertical-align: middle;\n",
       "    }\n",
       "\n",
       "    .dataframe tbody tr th {\n",
       "        vertical-align: top;\n",
       "    }\n",
       "\n",
       "    .dataframe thead th {\n",
       "        text-align: right;\n",
       "    }\n",
       "</style>\n",
       "<table border=\"1\" class=\"dataframe\">\n",
       "  <thead>\n",
       "    <tr style=\"text-align: right;\">\n",
       "      <th></th>\n",
       "      <th>EmployeeNumber</th>\n",
       "      <th>Age</th>\n",
       "      <th>Attrition</th>\n",
       "      <th>BusinessTravel</th>\n",
       "      <th>DailyRate</th>\n",
       "      <th>Department</th>\n",
       "      <th>DistanceFromHome</th>\n",
       "      <th>Education</th>\n",
       "      <th>EducationField</th>\n",
       "      <th>EnvironmentSatisfaction</th>\n",
       "      <th>...</th>\n",
       "      <th>PerformanceRating</th>\n",
       "      <th>RelationshipSatisfaction</th>\n",
       "      <th>StockOptionLevel</th>\n",
       "      <th>TotalWorkingYears</th>\n",
       "      <th>TrainingTimesLastYear</th>\n",
       "      <th>WorkLifeBalance</th>\n",
       "      <th>YearsAtCompany</th>\n",
       "      <th>YearsInCurrentRole</th>\n",
       "      <th>YearsSinceLastPromotion</th>\n",
       "      <th>YearsWithCurrManager</th>\n",
       "    </tr>\n",
       "  </thead>\n",
       "  <tbody>\n",
       "    <tr>\n",
       "      <th>0</th>\n",
       "      <td>1</td>\n",
       "      <td>41.0</td>\n",
       "      <td>Yes</td>\n",
       "      <td>Travel_Rarely</td>\n",
       "      <td>802.0</td>\n",
       "      <td>Sales</td>\n",
       "      <td>1</td>\n",
       "      <td>2</td>\n",
       "      <td>Life Sciences</td>\n",
       "      <td>2</td>\n",
       "      <td>...</td>\n",
       "      <td>3</td>\n",
       "      <td>1</td>\n",
       "      <td>0</td>\n",
       "      <td>8</td>\n",
       "      <td>0</td>\n",
       "      <td>1</td>\n",
       "      <td>6.0</td>\n",
       "      <td>4</td>\n",
       "      <td>0</td>\n",
       "      <td>5</td>\n",
       "    </tr>\n",
       "    <tr>\n",
       "      <th>1</th>\n",
       "      <td>2</td>\n",
       "      <td>49.0</td>\n",
       "      <td>No</td>\n",
       "      <td>Travel_Frequently</td>\n",
       "      <td>279.0</td>\n",
       "      <td>Research &amp; Development</td>\n",
       "      <td>8</td>\n",
       "      <td>1</td>\n",
       "      <td>Life Sciences</td>\n",
       "      <td>3</td>\n",
       "      <td>...</td>\n",
       "      <td>4</td>\n",
       "      <td>4</td>\n",
       "      <td>1</td>\n",
       "      <td>10</td>\n",
       "      <td>3</td>\n",
       "      <td>3</td>\n",
       "      <td>10.0</td>\n",
       "      <td>7</td>\n",
       "      <td>1</td>\n",
       "      <td>7</td>\n",
       "    </tr>\n",
       "    <tr>\n",
       "      <th>2</th>\n",
       "      <td>4</td>\n",
       "      <td>37.0</td>\n",
       "      <td>Yes</td>\n",
       "      <td>Travel_Rarely</td>\n",
       "      <td>1373.0</td>\n",
       "      <td>Research &amp; Development</td>\n",
       "      <td>2</td>\n",
       "      <td>2</td>\n",
       "      <td>Other</td>\n",
       "      <td>4</td>\n",
       "      <td>...</td>\n",
       "      <td>3</td>\n",
       "      <td>2</td>\n",
       "      <td>0</td>\n",
       "      <td>7</td>\n",
       "      <td>3</td>\n",
       "      <td>3</td>\n",
       "      <td>0.0</td>\n",
       "      <td>0</td>\n",
       "      <td>0</td>\n",
       "      <td>0</td>\n",
       "    </tr>\n",
       "    <tr>\n",
       "      <th>3</th>\n",
       "      <td>5</td>\n",
       "      <td>33.0</td>\n",
       "      <td>No</td>\n",
       "      <td>Travel_Frequently</td>\n",
       "      <td>1392.0</td>\n",
       "      <td>Research &amp; Development</td>\n",
       "      <td>3</td>\n",
       "      <td>4</td>\n",
       "      <td>Life Sciences</td>\n",
       "      <td>4</td>\n",
       "      <td>...</td>\n",
       "      <td>3</td>\n",
       "      <td>3</td>\n",
       "      <td>0</td>\n",
       "      <td>8</td>\n",
       "      <td>3</td>\n",
       "      <td>3</td>\n",
       "      <td>8.0</td>\n",
       "      <td>7</td>\n",
       "      <td>3</td>\n",
       "      <td>0</td>\n",
       "    </tr>\n",
       "    <tr>\n",
       "      <th>4</th>\n",
       "      <td>7</td>\n",
       "      <td>27.0</td>\n",
       "      <td>No</td>\n",
       "      <td>Travel_Rarely</td>\n",
       "      <td>591.0</td>\n",
       "      <td>Research &amp; Development</td>\n",
       "      <td>2</td>\n",
       "      <td>1</td>\n",
       "      <td>Medical</td>\n",
       "      <td>1</td>\n",
       "      <td>...</td>\n",
       "      <td>3</td>\n",
       "      <td>4</td>\n",
       "      <td>1</td>\n",
       "      <td>6</td>\n",
       "      <td>3</td>\n",
       "      <td>3</td>\n",
       "      <td>2.0</td>\n",
       "      <td>2</td>\n",
       "      <td>2</td>\n",
       "      <td>2</td>\n",
       "    </tr>\n",
       "  </tbody>\n",
       "</table>\n",
       "<p>5 rows × 32 columns</p>\n",
       "</div>"
      ],
      "text/plain": [
       "   EmployeeNumber   Age Attrition     BusinessTravel  DailyRate  \\\n",
       "0               1  41.0       Yes      Travel_Rarely      802.0   \n",
       "1               2  49.0        No  Travel_Frequently      279.0   \n",
       "2               4  37.0       Yes      Travel_Rarely     1373.0   \n",
       "3               5  33.0        No  Travel_Frequently     1392.0   \n",
       "4               7  27.0        No      Travel_Rarely      591.0   \n",
       "\n",
       "               Department  DistanceFromHome  Education EducationField  \\\n",
       "0                   Sales                 1          2  Life Sciences   \n",
       "1  Research & Development                 8          1  Life Sciences   \n",
       "2  Research & Development                 2          2          Other   \n",
       "3  Research & Development                 3          4  Life Sciences   \n",
       "4  Research & Development                 2          1        Medical   \n",
       "\n",
       "   EnvironmentSatisfaction  ... PerformanceRating  RelationshipSatisfaction  \\\n",
       "0                        2  ...                 3                         1   \n",
       "1                        3  ...                 4                         4   \n",
       "2                        4  ...                 3                         2   \n",
       "3                        4  ...                 3                         3   \n",
       "4                        1  ...                 3                         4   \n",
       "\n",
       "   StockOptionLevel  TotalWorkingYears TrainingTimesLastYear  WorkLifeBalance  \\\n",
       "0                 0                  8                     0                1   \n",
       "1                 1                 10                     3                3   \n",
       "2                 0                  7                     3                3   \n",
       "3                 0                  8                     3                3   \n",
       "4                 1                  6                     3                3   \n",
       "\n",
       "  YearsAtCompany  YearsInCurrentRole  YearsSinceLastPromotion  \\\n",
       "0            6.0                   4                        0   \n",
       "1           10.0                   7                        1   \n",
       "2            0.0                   0                        0   \n",
       "3            8.0                   7                        3   \n",
       "4            2.0                   2                        2   \n",
       "\n",
       "   YearsWithCurrManager  \n",
       "0                     5  \n",
       "1                     7  \n",
       "2                     0  \n",
       "3                     0  \n",
       "4                     2  \n",
       "\n",
       "[5 rows x 32 columns]"
      ]
     },
     "execution_count": 2,
     "metadata": {},
     "output_type": "execute_result"
    }
   ],
   "source": [
    "\n",
    "data = pd.read_csv(r\"Clean_data.csv\")\n",
    "data.head()"
   ]
  },
  {
   "cell_type": "code",
   "execution_count": 3,
   "metadata": {},
   "outputs": [],
   "source": [
    "from sklearn.preprocessing import LabelEncoder\n",
    "encoder=LabelEncoder()\n",
    "for col in data.select_dtypes(\"object\").columns:\n",
    "    data[col]=encoder.fit_transform(data[col])"
   ]
  },
  {
   "cell_type": "code",
   "execution_count": 4,
   "metadata": {},
   "outputs": [
    {
     "name": "stdout",
     "output_type": "stream",
     "text": [
      "<class 'pandas.core.frame.DataFrame'>\n",
      "RangeIndex: 1470 entries, 0 to 1469\n",
      "Data columns (total 32 columns):\n",
      " #   Column                    Non-Null Count  Dtype  \n",
      "---  ------                    --------------  -----  \n",
      " 0   EmployeeNumber            1470 non-null   int64  \n",
      " 1   Age                       1470 non-null   float64\n",
      " 2   Attrition                 1470 non-null   int32  \n",
      " 3   BusinessTravel            1470 non-null   int32  \n",
      " 4   DailyRate                 1470 non-null   float64\n",
      " 5   Department                1470 non-null   int32  \n",
      " 6   DistanceFromHome          1470 non-null   int64  \n",
      " 7   Education                 1470 non-null   int64  \n",
      " 8   EducationField            1470 non-null   int32  \n",
      " 9   EnvironmentSatisfaction   1470 non-null   int64  \n",
      " 10  Gender                    1470 non-null   int32  \n",
      " 11  HourlyRate                1470 non-null   int64  \n",
      " 12  JobInvolvement            1470 non-null   int64  \n",
      " 13  JobLevel                  1470 non-null   int64  \n",
      " 14  JobRole                   1470 non-null   int32  \n",
      " 15  JobSatisfaction           1470 non-null   float64\n",
      " 16  MaritalStatus             1470 non-null   int32  \n",
      " 17  MonthlyIncome             1470 non-null   int64  \n",
      " 18  MonthlyRate               1470 non-null   int64  \n",
      " 19  NumCompaniesWorked        1470 non-null   int64  \n",
      " 20  OverTime                  1470 non-null   int32  \n",
      " 21  PercentSalaryHike         1470 non-null   int64  \n",
      " 22  PerformanceRating         1470 non-null   int64  \n",
      " 23  RelationshipSatisfaction  1470 non-null   int64  \n",
      " 24  StockOptionLevel          1470 non-null   int64  \n",
      " 25  TotalWorkingYears         1470 non-null   int64  \n",
      " 26  TrainingTimesLastYear     1470 non-null   int64  \n",
      " 27  WorkLifeBalance           1470 non-null   int64  \n",
      " 28  YearsAtCompany            1470 non-null   float64\n",
      " 29  YearsInCurrentRole        1470 non-null   int64  \n",
      " 30  YearsSinceLastPromotion   1470 non-null   int64  \n",
      " 31  YearsWithCurrManager      1470 non-null   int64  \n",
      "dtypes: float64(4), int32(8), int64(20)\n",
      "memory usage: 321.7 KB\n"
     ]
    }
   ],
   "source": [
    "data.info()"
   ]
  },
  {
   "cell_type": "code",
   "execution_count": 5,
   "metadata": {},
   "outputs": [
    {
     "data": {
      "text/plain": [
       "Attrition\n",
       "0    1233\n",
       "1     237\n",
       "Name: count, dtype: int64"
      ]
     },
     "execution_count": 5,
     "metadata": {},
     "output_type": "execute_result"
    }
   ],
   "source": [
    "data['Attrition'].value_counts()"
   ]
  },
  {
   "cell_type": "code",
   "execution_count": 6,
   "metadata": {},
   "outputs": [
    {
     "name": "stdout",
     "output_type": "stream",
     "text": [
      "Accuracy: 0.9675675675675676\n",
      "Classification Report:\n",
      "              precision    recall  f1-score   support\n",
      "\n",
      "           0       0.98      0.96      0.97       369\n",
      "           1       0.96      0.98      0.97       371\n",
      "\n",
      "    accuracy                           0.97       740\n",
      "   macro avg       0.97      0.97      0.97       740\n",
      "weighted avg       0.97      0.97      0.97       740\n",
      "\n"
     ]
    },
    {
     "data": {
      "image/png": "[encoded data removed]",
      "text/plain": [
       "<Figure size 600x400 with 2 Axes>"
      ]
     },
     "metadata": {},
     "output_type": "display_data"
    }
   ],
   "source": [
    "\n",
    "from sklearn.model_selection import train_test_split\n",
    "from sklearn.linear_model import LogisticRegression\n",
    "from sklearn.metrics import accuracy_score, confusion_matrix, classification_report\n",
    "from sklearn.decomposition import PCA\n",
    "from sklearn.feature_selection import SelectPercentile, mutual_info_regression\n",
    "from sklearn.ensemble import RandomForestClassifier\n",
    "\n",
    "\n",
    "\n",
    "# Split data into features (X) and target (y)\n",
    "X = data.drop(columns='Attrition')\n",
    "y = data['Attrition']\n",
    "from imblearn.over_sampling import RandomOverSampler\n",
    "from sklearn.svm import SVC\n",
    "\n",
    "\n",
    "rus = RandomOverSampler(sampling_strategy='auto', random_state=42)\n",
    "X_overesampled, y_overesampled = rus.fit_resample(X, y)\n",
    "\n",
    "# Split into training and test sets\n",
    "X_train, X_test, y_train, y_test = train_test_split(X_overesampled, y_overesampled, test_size=0.3, random_state=42)\n",
    "\n",
    "\n",
    "\n",
    "\n",
    "\n",
    "# apply pca\n",
    "pca = PCA(n_components=20)\n",
    "x_train_pca = pca.fit_transform(X_train)\n",
    "x_test_pca = pca.transform(X_test)\n",
    "x_train_pca = pd.DataFrame(x_train_pca)\n",
    "x_test_pca = pd.DataFrame(x_test_pca)\n",
    "\n",
    "\n",
    "model = RandomForestClassifier()\n",
    "model.fit(x_train_pca, y_train)\n",
    "\n",
    "# Make predictions\n",
    "y_pred = model.predict(x_test_pca)\n",
    "\n",
    "# Print evaluation metrics\n",
    "print(f'Accuracy: {accuracy_score(y_test, y_pred)}')\n",
    "print('Classification Report:')\n",
    "print(classification_report(y_test, y_pred))\n",
    "\n",
    "# Plot confusion matrix\n",
    "conf_matrix = confusion_matrix(y_test, y_pred)\n",
    "plt.figure(figsize=(6, 4))\n",
    "sns.heatmap(conf_matrix, annot=True, fmt='d', cmap='Blues')\n",
    "plt.title('Confusion Matrix for Attrition Prediction')\n",
    "plt.xlabel('Predicted')\n",
    "plt.ylabel('Actual')\n",
    "plt.show()"
   ]
  },
  {
   "cell_type": "code",
   "execution_count": 7,
   "metadata": {},
   "outputs": [
    {
     "data": {
      "text/plain": [
       "(1726, 31)"
      ]
     },
     "execution_count": 7,
     "metadata": {},
     "output_type": "execute_result"
    }
   ],
   "source": [
    "X_train.shape"
   ]
  },
  {
   "cell_type": "code",
   "execution_count": 8,
   "metadata": {},
   "outputs": [
    {
     "data": {
      "text/plain": [
       "<matplotlib.legend.Legend at 0x1925240f020>"
      ]
     },
     "execution_count": 8,
     "metadata": {},
     "output_type": "execute_result"
    },
    {
     "data": {
      "image/png": "[encoded data removed]",
      "text/plain": [
       "<Figure size 640x480 with 1 Axes>"
      ]
     },
     "metadata": {},
     "output_type": "display_data"
    }
   ],
   "source": [
    "y_pred = y_pred.squeeze()\n",
    "x_test_view = X_test[\"Age\"].values.squeeze()\n",
    "sns.scatterplot(x = x_test_view, y = y_pred, hue = y_test)\n",
    "plt.xlabel('Radius')\n",
    "plt.ylabel('Predicted')\n",
    "plt.legend()"
   ]
  },
  {
   "cell_type": "code",
   "execution_count": 9,
   "metadata": {},
   "outputs": [
    {
     "name": "stdout",
     "output_type": "stream",
     "text": [
      "Mean Squared Error: 2307326.37\n",
      "R^2 Score: 0.89\n"
     ]
    },
    {
     "data": {
      "application/vnd.plotly.v1+json": {
       "config": {
        "plotlyServerURL": "https://plot.ly"
       },
       "data": [
        {
         "hovertemplate": "x=%{x}<br>y=%{y}<extra></extra>",
         "legendgroup": "",
         "marker": {
          "color": "#636efa",
          "symbol": "circle"
         },
         "mode": "markers",
         "name": "",
         "orientation": "v",
         "showlegend": false,
         "type": "scatter",
         "x": [
          6272.378499596324,
          5858.74636764461,
          1277.9334075739398,
          10729.289379097885,
          6657.3759227933715,
          2439.927954705244,
          2046.8631942730726,
          2959.829779266817,
          11224.924690946009,
          2163.7028024699184,
          2332.3982717323734,
          11055.790796878884,
          6825.1472842451785,
          2394.749527313748,
          2000.0351877820794,
          2170.2112009371913,
          6563.172696845634,
          3041.5830427706037,
          9376.301723990113,
          13757.51447351158,
          1630.681158652308,
          7143.452520101707,
          6355.0002778464095,
          6548.465704655965,
          6602.1328009343715,
          19291.97520944914,
          2038.8689732174917,
          6004.055131420878,
          1841.3972908545984,
          6055.620821435545,
          6439.212372624956,
          5951.968131416143,
          6419.624807926173,
          10238.88149640393,
          6855.790484360892,
          10130.672935407783,
          9501.435254404185,
          1930.7871374199194,
          1970.3079339211336,
          2157.4360360379897,
          6657.783616791621,
          6786.294976931146,
          5703.510268394758,
          2006.426089548926,
          2080.732442755195,
          6583.582303162028,
          9781.389359096536,
          6293.336388683861,
          6473.480470400047,
          1511.2225617057102,
          14775.398265429627,
          1820.9536986619787,
          17664.20396143793,
          6577.548451034104,
          2932.244268580483,
          5802.020485088302,
          6457.446812011924,
          6125.677052532504,
          7086.10708495505,
          6434.496347741,
          9599.71676860497,
          2030.7470438438686,
          9807.484559961002,
          14805.253263562001,
          7104.284819290679,
          5579.835579341871,
          6148.927987764637,
          6257.736943757865,
          2071.6925730931407,
          13717.817992609353,
          6572.550696641794,
          19235.86705486377,
          7160.4959890803675,
          6408.733555296417,
          6612.935033565398,
          14153.245702544562,
          6033.5583685388165,
          6633.025302328015,
          10362.500491752926,
          9868.894286106286,
          18034.80802701389,
          6200.877789325939,
          15520.551612299234,
          2342.8872357759337,
          9747.834798750411,
          2287.703096674675,
          10802.400141290931,
          5894.850716305944,
          6214.002031304767,
          6489.1917714573065,
          5739.924480059832,
          1662.1683764645877,
          14431.200797218731,
          2156.1030248415773,
          10217.226075276998,
          9672.589989444858,
          6375.973483674231,
          5822.029317139846,
          6572.985492359012,
          10551.44673406176,
          18661.078774049907,
          9911.156025686529,
          9758.587433369763,
          2942.0071558707164,
          11091.86448074282,
          9728.524993287816,
          5842.519323299734,
          6267.05986207466,
          9849.62206104157,
          18339.06951268086,
          6316.390752923642,
          6126.881009947877,
          6419.639696385386,
          6045.870666764889,
          1951.4737721605206,
          1795.2447645841812,
          7213.389194642224,
          9878.01954189075,
          14373.457979509767,
          3069.3038533739314,
          2345.7502834052966,
          10309.338944547348,
          2388.702666423795,
          14559.042789186398,
          6550.348633816364,
          1604.5648082671478,
          6227.070159005814,
          14983.724673821438,
          7208.201508796694,
          6529.385946265502,
          2085.1349461307245,
          1876.325605216577,
          10564.348210441396,
          5653.200748693262,
          2497.174492335041,
          6045.683614706442,
          1877.2966661078726,
          10116.765373324883,
          1566.4704368542616,
          13868.551025546909,
          2301.1256367966243,
          9196.652220092092,
          5645.723221944142,
          9843.644298417039,
          14672.91546923152,
          1908.6427468471347,
          6180.4890483325025,
          2302.96291071617,
          1892.4558711603377,
          6045.729537396033,
          6415.0511077089395,
          11129.74052832264,
          2787.6400361178735,
          2237.296939292243,
          6181.183969803667,
          2549.6796464290346,
          6428.632447339807,
          2491.87054327575,
          18086.433050048647,
          2686.600738411484,
          5867.687588487645,
          6235.19889119704,
          6264.164128168319,
          3096.480837364655,
          6297.722610609842,
          6470.860050723482,
          2210.030167606381,
          5659.702498268482,
          14755.667322203208,
          9785.201304181513,
          5863.461815312374,
          14296.829819505605,
          2387.552685435761,
          2474.720648008478,
          6211.157194738427,
          2581.886623239541,
          6227.255777140506,
          9875.184195777765,
          11514.473713156976,
          2193.1676686557585,
          14583.050330872848,
          6216.180912155611,
          17667.62048948451,
          10184.77084260185,
          10087.600460286443,
          1401.2401131655297,
          10614.059019851926,
          10821.140610253704,
          6479.627328570148,
          5924.767821890176,
          7096.848030725496,
          11230.199659389491,
          8852.531196833655,
          5764.815918969073,
          5665.394155108415,
          1624.4596785153308,
          2616.752655661324,
          18272.97139310259,
          6656.699215004191,
          6631.633026450735,
          1935.0465701269968,
          6113.153922175209,
          6413.637966334303,
          17042.728040943675,
          14727.178568636285,
          2712.0242310615845,
          9643.726343466667,
          2121.0450624420364,
          2596.2134332881633,
          19107.39948686427,
          11126.652067324594,
          2262.866049386542,
          2421.8903250941726,
          10431.086707877865,
          5884.00725292899,
          2809.5944504244726,
          6292.211166757997,
          7291.962811214573,
          6046.630674679038,
          11027.298146495685,
          6290.084943264794,
          2582.5445841439996,
          9987.54448554183,
          6386.732449383024,
          6272.318498458502,
          2117.766403025513,
          6716.244120190408,
          6220.793173589667,
          10209.566764105668,
          1920.2390543791598,
          6238.095901409053,
          6528.354194913468,
          18058.86379944499,
          10655.36286571433,
          6341.935064136629,
          6223.810413359412,
          5965.352040627355,
          2125.2633453039734,
          14620.886677923932,
          18050.99073701849,
          2658.8239498713383,
          5516.684554153913,
          6290.829727769717,
          18573.02194459135,
          9678.493362741487,
          6117.629395180904,
          2492.2378687705846,
          6424.052380343255,
          6059.3925345930675,
          6617.829506903622,
          6160.404572885876,
          17732.101050916124,
          19420.771499949653,
          6103.6858042999775,
          6922.82960226673,
          5652.1393424543785,
          1969.1888935525203,
          1582.1782776116079,
          1773.08877804043,
          13130.998444378572,
          6450.709410876633,
          2157.143247519951,
          1655.808331063351,
          6302.09825082307,
          6369.958510069565,
          11372.154395763924,
          19392.93925508058,
          9938.160077374801,
          6518.758219434641,
          6318.062394072545,
          1657.8441053082379,
          18303.851381659628,
          2509.652303904425,
          5720.979372967885,
          10084.252136927525,
          6938.688585041033,
          2109.23858653325,
          6010.627401534688,
          5984.089734870322,
          9997.2993102714,
          1099.3098068821573,
          5903.11891076778,
          2552.3573134109997,
          6400.304180209856,
          14927.889282611151,
          2193.993083616111,
          6149.855749526829,
          2575.2655920137217,
          6019.0093004885075,
          6007.264081436534,
          6251.606755962845,
          14112.315290722585,
          1870.5851192924847,
          6103.916516063354,
          2070.292749866232,
          1776.4978179554646,
          6482.569713892399,
          6018.879821714068,
          6261.1514813002905,
          5732.106335365559,
          6834.817270625224,
          1292.57911650601,
          2520.171763737595,
          6284.368326826393,
          6757.023067695673,
          6624.04550503646,
          6474.605370895302,
          2087.1785082495217,
          5795.359531682316,
          1985.7557500384928,
          14662.748336978533,
          2378.1963480309714,
          2412.3466574214617,
          1936.6426457181851,
          15182.079085888385,
          6263.170931184005,
          18984.38369880212,
          2447.0753175119767,
          18059.142985325332,
          15747.846974421482,
          10118.765661650661,
          2653.869960821709,
          5642.422336029554,
          9734.797237630035,
          10389.809701931583,
          6142.240736060824,
          6665.503866133287,
          10231.284146698414,
          6824.527295681696,
          9872.219265001528,
          2773.943612752302,
          2691.670653166777,
          14454.316289526527,
          17736.473038844022,
          5662.019245245724,
          1812.0383922589735,
          6670.68702924263,
          5977.259925252779,
          2684.5877282679435,
          5941.12782976016,
          6127.834097429687,
          6236.040281193065,
          5461.736744793326,
          1857.7976796805933,
          2067.178327314963,
          6424.434498319337,
          2609.6531584051586,
          7172.590194022871,
          3077.512909360352,
          6591.519712675077,
          2218.0568853624663,
          2402.793437445739,
          18774.626962280687,
          11502.640966851279,
          6455.119685062284,
          1968.5841608542705,
          2453.7191639952907,
          14960.893804454929,
          5735.27838710236,
          5986.846319966604,
          2517.398349254219,
          1867.8137718499083,
          6120.696098297825,
          2709.648740140928,
          2344.6088554970083,
          5304.702563133784,
          2400.747085655558,
          5791.32462603807,
          2820.3686255799503,
          7182.296570130253,
          6578.688250183597,
          5898.545057125948,
          6215.215197564132,
          15004.067181444261,
          6440.869574569719,
          2597.7875759778985,
          6389.472268332317,
          9163.144756094893,
          5900.443915479087,
          1761.9860372751364,
          2410.2897824079414,
          2255.0628818151536,
          10308.754966622666,
          1752.3876569563063,
          5941.744210039764,
          7023.677447671448,
          6344.22685853132,
          2166.0195232944507,
          2127.34342737918,
          15203.422291351857,
          2099.642051321671,
          11084.639761271208,
          2232.430493626145,
          2876.411522517517,
          6236.531212917214,
          5918.610136138925,
          12535.076992879407,
          2238.8216888449533,
          2368.2403593860995,
          6463.0012057795975,
          9880.458701020549,
          2365.335756567139,
          6345.553432880084,
          1979.482220576605,
          2071.018782093398,
          6263.049654978649,
          6439.357470250309,
          10730.336280954645,
          6238.643929135555,
          2562.0036811912887,
          2085.7189205261866,
          10115.101341494401,
          6350.251311870814,
          5950.697996263463,
          2052.005370112779,
          2723.979589361207,
          6710.001330159992,
          5381.12654554748,
          2365.9248318100817,
          2433.747502857782,
          2068.188194519741,
          10559.405712946722,
          6189.426918334132,
          2210.4646904528954,
          14062.710631799244,
          10100.957186684198,
          5965.563805521532,
          2298.6200924320347,
          9601.299128794071,
          5986.477253269325,
          7339.263639379117,
          5824.848263733651,
          2237.5256939414003,
          2450.425911148536,
          10363.035863462163,
          6163.298924216427,
          5877.287848070143,
          6117.206978406213,
          2055.884946997835,
          6125.138768683799,
          2471.9193867399076
         ],
         "xaxis": "x",
         "y": [
          8463,
          4450,
          1555,
          9724,
          5914,
          2579,
          4230,
          2232,
          8865,
          2269,
          3294,
          10231,
          5933,
          2213,
          3375,
          4968,
          6294,
          2743,
          11849,
          17007,
          3479,
          5070,
          9204,
          5605,
          6392,
          19586,
          2318,
          4037,
          3420,
          5957,
          5294,
          5472,
          4244,
          7491,
          6134,
          7823,
          13757,
          2107,
          3441,
          3591,
          8686,
          5473,
          4087,
          2821,
          2851,
          5249,
          9094,
          5324,
          6796,
          1859,
          17861,
          4821,
          19537,
          6125,
          2974,
          4998,
          2741,
          5968,
          6142,
          5042,
          9756,
          1416,
          7446,
          17639,
          4777,
          5916,
          6214,
          4284,
          3310,
          16437,
          5507,
          18947,
          9602,
          4312,
          6623,
          14756,
          4724,
          6500,
          10252,
          11916,
          18606,
          6389,
          17875,
          2096,
          7336,
          3162,
          7082,
          5985,
          5175,
          4011,
          5993,
          1232,
          13341,
          2476,
          7428,
          7143,
          8620,
          4449,
          4591,
          9071,
          19045,
          7655,
          7654,
          2534,
          10999,
          8740,
          5258,
          4648,
          13664,
          19202,
          5440,
          5769,
          6932,
          9957,
          1702,
          3452,
          5473,
          9980,
          15379,
          3838,
          2066,
          8500,
          2838,
          12965,
          5980,
          2564,
          4950,
          12169,
          4553,
          6929,
          3812,
          1514,
          10266,
          4508,
          4420,
          5429,
          3230,
          9824,
          2696,
          13973,
          2154,
          7406,
          4374,
          8726,
          13966,
          2718,
          4869,
          2625,
          2956,
          5744,
          5484,
          10096,
          4257,
          3730,
          6120,
          4031,
          8346,
          2523,
          19627,
          2370,
          4855,
          5337,
          5154,
          2587,
          3986,
          6877,
          2206,
          3902,
          17046,
          8095,
          5974,
          16823,
          2660,
          3597,
          5055,
          2308,
          5484,
          9439,
          10447,
          3760,
          13402,
          5253,
          19232,
          8376,
          8020,
          1706,
          7945,
          10496,
          8926,
          3660,
          6513,
          7637,
          7988,
          5410,
          6549,
          2290,
          2559,
          18430,
          5363,
          6553,
          3708,
          4968,
          4538,
          19189,
          14814,
          2496,
          9069,
          2570,
          3673,
          19566,
          10124,
          2351,
          3669,
          7351,
          9936,
          2564,
          6653,
          6377,
          6410,
          10466,
          2042,
          2886,
          13603,
          5765,
          5321,
          2235,
          4779,
          5878,
          10377,
          3452,
          5094,
          4233,
          18061,
          9888,
          4272,
          3069,
          6306,
          3691,
          13726,
          19513,
          2707,
          4490,
          5326,
          19190,
          9434,
          4440,
          2768,
          5562,
          4876,
          5390,
          6782,
          19141,
          19068,
          5915,
          6516,
          5775,
          2201,
          2479,
          3617,
          17603,
          6334,
          3579,
          1274,
          5063,
          9998,
          7403,
          19517,
          8412,
          4425,
          4978,
          2859,
          19161,
          4876,
          6074,
          7140,
          5476,
          3423,
          4765,
          6472,
          9241,
          4258,
          4736,
          2367,
          9715,
          13964,
          2977,
          4898,
          2332,
          4306,
          6274,
          5121,
          16880,
          4680,
          4537,
          2296,
          1051,
          6931,
          5295,
          4197,
          3886,
          6687,
          2177,
          2322,
          9679,
          6644,
          6201,
          4850,
          4401,
          6077,
          3348,
          13194,
          2622,
          2774,
          2791,
          16856,
          5006,
          18213,
          2207,
          19328,
          16291,
          7094,
          2115,
          4285,
          11935,
          8008,
          6465,
          4960,
          10400,
          5033,
          11244,
          3294,
          2818,
          17779,
          19740,
          9547,
          3102,
          6893,
          6834,
          3629,
          5329,
          4684,
          5772,
          4319,
          2700,
          2061,
          4617,
          3722,
          6439,
          2655,
          5343,
          2187,
          2288,
          18303,
          10748,
          4260,
          3622,
          3955,
          12936,
          5206,
          6032,
          2783,
          2741,
          6397,
          4364,
          3936,
          3319,
          2187,
          5467,
          2062,
          6815,
          4759,
          4105,
          5396,
          11245,
          6578,
          2716,
          4157,
          12808,
          6804,
          2695,
          2430,
          2871,
          7879,
          2073,
          4523,
          5231,
          5582,
          2741,
          1420,
          13770,
          2585,
          10552,
          2543,
          3161,
          6323,
          2897,
          10312,
          2275,
          2789,
          7625,
          7756,
          2377,
          5296,
          3058,
          2439,
          6474,
          5869,
          9396,
          4663,
          4200,
          2141,
          9852,
          6799,
          5743,
          2380,
          2362,
          6583,
          6261,
          3424,
          2506,
          4678,
          7644,
          4127,
          2426,
          17181,
          10325,
          4554,
          3688,
          11691,
          4485,
          9824,
          5485,
          3500,
          2342,
          10854,
          6567,
          4373,
          6349,
          3464,
          5204,
          2074
         ],
         "yaxis": "y"
        },
        {
         "hovertemplate": "<b>OLS trendline</b><br>y = 0.963993 * x + 141.941<br>R<sup>2</sup>=0.887655<br><br>x=%{x}<br>y=%{y} <b>(trend)</b><extra></extra>",
         "legendgroup": "",
         "marker": {
          "color": "#636efa",
          "symbol": "circle"
         },
         "mode": "lines",
         "name": "",
         "showlegend": false,
         "type": "scatter",
         "x": [
          1099.3098068821573,
          1277.9334075739398,
          1292.57911650601,
          1401.2401131655297,
          1511.2225617057102,
          1566.4704368542616,
          1582.1782776116079,
          1604.5648082671478,
          1624.4596785153308,
          1630.681158652308,
          1655.808331063351,
          1657.8441053082379,
          1662.1683764645877,
          1752.3876569563063,
          1761.9860372751364,
          1773.08877804043,
          1776.4978179554646,
          1795.2447645841812,
          1812.0383922589735,
          1820.9536986619787,
          1841.3972908545984,
          1857.7976796805933,
          1867.8137718499083,
          1870.5851192924847,
          1876.325605216577,
          1877.2966661078726,
          1892.4558711603377,
          1908.6427468471347,
          1920.2390543791598,
          1930.7871374199194,
          1935.0465701269968,
          1936.6426457181851,
          1951.4737721605206,
          1968.5841608542705,
          1969.1888935525203,
          1970.3079339211336,
          1979.482220576605,
          1985.7557500384928,
          2000.0351877820794,
          2006.426089548926,
          2030.7470438438686,
          2038.8689732174917,
          2046.8631942730726,
          2052.005370112779,
          2055.884946997835,
          2067.178327314963,
          2068.188194519741,
          2070.292749866232,
          2071.018782093398,
          2071.6925730931407,
          2080.732442755195,
          2085.1349461307245,
          2085.7189205261866,
          2087.1785082495217,
          2099.642051321671,
          2109.23858653325,
          2117.766403025513,
          2121.0450624420364,
          2125.2633453039734,
          2127.34342737918,
          2156.1030248415773,
          2157.143247519951,
          2157.4360360379897,
          2163.7028024699184,
          2166.0195232944507,
          2170.2112009371913,
          2193.1676686557585,
          2193.993083616111,
          2210.030167606381,
          2210.4646904528954,
          2218.0568853624663,
          2232.430493626145,
          2237.296939292243,
          2237.5256939414003,
          2238.8216888449533,
          2255.0628818151536,
          2262.866049386542,
          2287.703096674675,
          2298.6200924320347,
          2301.1256367966243,
          2302.96291071617,
          2332.3982717323734,
          2342.8872357759337,
          2344.6088554970083,
          2345.7502834052966,
          2365.335756567139,
          2365.9248318100817,
          2368.2403593860995,
          2378.1963480309714,
          2387.552685435761,
          2388.702666423795,
          2394.749527313748,
          2400.747085655558,
          2402.793437445739,
          2410.2897824079414,
          2412.3466574214617,
          2421.8903250941726,
          2433.747502857782,
          2439.927954705244,
          2447.0753175119767,
          2450.425911148536,
          2453.7191639952907,
          2471.9193867399076,
          2474.720648008478,
          2491.87054327575,
          2492.2378687705846,
          2497.174492335041,
          2509.652303904425,
          2517.398349254219,
          2520.171763737595,
          2549.6796464290346,
          2552.3573134109997,
          2562.0036811912887,
          2575.2655920137217,
          2581.886623239541,
          2582.5445841439996,
          2596.2134332881633,
          2597.7875759778985,
          2609.6531584051586,
          2616.752655661324,
          2653.869960821709,
          2658.8239498713383,
          2684.5877282679435,
          2686.600738411484,
          2691.670653166777,
          2709.648740140928,
          2712.0242310615845,
          2723.979589361207,
          2773.943612752302,
          2787.6400361178735,
          2809.5944504244726,
          2820.3686255799503,
          2876.411522517517,
          2932.244268580483,
          2942.0071558707164,
          2959.829779266817,
          3041.5830427706037,
          3069.3038533739314,
          3077.512909360352,
          3096.480837364655,
          5304.702563133784,
          5381.12654554748,
          5461.736744793326,
          5516.684554153913,
          5579.835579341871,
          5642.422336029554,
          5645.723221944142,
          5652.1393424543785,
          5653.200748693262,
          5659.702498268482,
          5662.019245245724,
          5665.394155108415,
          5703.510268394758,
          5720.979372967885,
          5732.106335365559,
          5735.27838710236,
          5739.924480059832,
          5764.815918969073,
          5791.32462603807,
          5795.359531682316,
          5802.020485088302,
          5822.029317139846,
          5824.848263733651,
          5842.519323299734,
          5858.74636764461,
          5863.461815312374,
          5867.687588487645,
          5877.287848070143,
          5884.00725292899,
          5894.850716305944,
          5898.545057125948,
          5900.443915479087,
          5903.11891076778,
          5918.610136138925,
          5924.767821890176,
          5941.12782976016,
          5941.744210039764,
          5950.697996263463,
          5951.968131416143,
          5965.352040627355,
          5965.563805521532,
          5977.259925252779,
          5984.089734870322,
          5986.477253269325,
          5986.846319966604,
          6004.055131420878,
          6007.264081436534,
          6010.627401534688,
          6018.879821714068,
          6019.0093004885075,
          6033.5583685388165,
          6045.683614706442,
          6045.729537396033,
          6045.870666764889,
          6046.630674679038,
          6055.620821435545,
          6059.3925345930675,
          6103.6858042999775,
          6103.916516063354,
          6113.153922175209,
          6117.206978406213,
          6117.629395180904,
          6120.696098297825,
          6125.138768683799,
          6125.677052532504,
          6126.881009947877,
          6127.834097429687,
          6142.240736060824,
          6148.927987764637,
          6149.855749526829,
          6160.404572885876,
          6163.298924216427,
          6180.4890483325025,
          6181.183969803667,
          6189.426918334132,
          6200.877789325939,
          6211.157194738427,
          6214.002031304767,
          6215.215197564132,
          6216.180912155611,
          6220.793173589667,
          6223.810413359412,
          6227.070159005814,
          6227.255777140506,
          6235.19889119704,
          6236.040281193065,
          6236.531212917214,
          6238.095901409053,
          6238.643929135555,
          6251.606755962845,
          6257.736943757865,
          6261.1514813002905,
          6263.049654978649,
          6263.170931184005,
          6264.164128168319,
          6267.05986207466,
          6272.318498458502,
          6272.378499596324,
          6284.368326826393,
          6290.084943264794,
          6290.829727769717,
          6292.211166757997,
          6293.336388683861,
          6297.722610609842,
          6302.09825082307,
          6316.390752923642,
          6318.062394072545,
          6341.935064136629,
          6344.22685853132,
          6345.553432880084,
          6350.251311870814,
          6355.0002778464095,
          6369.958510069565,
          6375.973483674231,
          6386.732449383024,
          6389.472268332317,
          6400.304180209856,
          6408.733555296417,
          6413.637966334303,
          6415.0511077089395,
          6419.624807926173,
          6419.639696385386,
          6424.052380343255,
          6424.434498319337,
          6428.632447339807,
          6434.496347741,
          6439.212372624956,
          6439.357470250309,
          6440.869574569719,
          6450.709410876633,
          6455.119685062284,
          6457.446812011924,
          6463.0012057795975,
          6470.860050723482,
          6473.480470400047,
          6474.605370895302,
          6479.627328570148,
          6482.569713892399,
          6489.1917714573065,
          6518.758219434641,
          6528.354194913468,
          6529.385946265502,
          6548.465704655965,
          6550.348633816364,
          6563.172696845634,
          6572.550696641794,
          6572.985492359012,
          6577.548451034104,
          6578.688250183597,
          6583.582303162028,
          6591.519712675077,
          6602.1328009343715,
          6612.935033565398,
          6617.829506903622,
          6624.04550503646,
          6631.633026450735,
          6633.025302328015,
          6656.699215004191,
          6657.3759227933715,
          6657.783616791621,
          6665.503866133287,
          6670.68702924263,
          6710.001330159992,
          6716.244120190408,
          6757.023067695673,
          6786.294976931146,
          6824.527295681696,
          6825.1472842451785,
          6834.817270625224,
          6855.790484360892,
          6922.82960226673,
          6938.688585041033,
          7023.677447671448,
          7086.10708495505,
          7096.848030725496,
          7104.284819290679,
          7143.452520101707,
          7160.4959890803675,
          7172.590194022871,
          7182.296570130253,
          7208.201508796694,
          7213.389194642224,
          7291.962811214573,
          7339.263639379117,
          8852.531196833655,
          9163.144756094893,
          9196.652220092092,
          9376.301723990113,
          9501.435254404185,
          9599.71676860497,
          9601.299128794071,
          9643.726343466667,
          9672.589989444858,
          9678.493362741487,
          9728.524993287816,
          9734.797237630035,
          9747.834798750411,
          9758.587433369763,
          9781.389359096536,
          9785.201304181513,
          9807.484559961002,
          9843.644298417039,
          9849.62206104157,
          9868.894286106286,
          9872.219265001528,
          9875.184195777765,
          9878.01954189075,
          9880.458701020549,
          9911.156025686529,
          9938.160077374801,
          9987.54448554183,
          9997.2993102714,
          10084.252136927525,
          10087.600460286443,
          10100.957186684198,
          10115.101341494401,
          10116.765373324883,
          10118.765661650661,
          10130.672935407783,
          10184.77084260185,
          10209.566764105668,
          10217.226075276998,
          10231.284146698414,
          10238.88149640393,
          10308.754966622666,
          10309.338944547348,
          10362.500491752926,
          10363.035863462163,
          10389.809701931583,
          10431.086707877865,
          10551.44673406176,
          10559.405712946722,
          10564.348210441396,
          10614.059019851926,
          10655.36286571433,
          10729.289379097885,
          10730.336280954645,
          10802.400141290931,
          10821.140610253704,
          11027.298146495685,
          11055.790796878884,
          11084.639761271208,
          11091.86448074282,
          11126.652067324594,
          11129.74052832264,
          11224.924690946009,
          11230.199659389491,
          11372.154395763924,
          11502.640966851279,
          11514.473713156976,
          12535.076992879407,
          13130.998444378572,
          13717.817992609353,
          13757.51447351158,
          13868.551025546909,
          14062.710631799244,
          14112.315290722585,
          14153.245702544562,
          14296.829819505605,
          14373.457979509767,
          14431.200797218731,
          14454.316289526527,
          14559.042789186398,
          14583.050330872848,
          14620.886677923932,
          14662.748336978533,
          14672.91546923152,
          14727.178568636285,
          14755.667322203208,
          14775.398265429627,
          14805.253263562001,
          14927.889282611151,
          14960.893804454929,
          14983.724673821438,
          15004.067181444261,
          15182.079085888385,
          15203.422291351857,
          15520.551612299234,
          15747.846974421482,
          17042.728040943675,
          17664.20396143793,
          17667.62048948451,
          17732.101050916124,
          17736.473038844022,
          18034.80802701389,
          18050.99073701849,
          18058.86379944499,
          18059.142985325332,
          18086.433050048647,
          18272.97139310259,
          18303.851381659628,
          18339.06951268086,
          18573.02194459135,
          18661.078774049907,
          18774.626962280687,
          18984.38369880212,
          19107.39948686427,
          19235.86705486377,
          19291.97520944914,
          19392.93925508058,
          19420.771499949653
         ],
         "xaxis": "x",
         "y": [
          1201.6682594126414,
          1373.8601348293882,
          1387.978493646779,
          1492.7269184181555,
          1598.7492133652686,
          1652.0077704527757,
          1667.1500167644608,
          1688.7304724417786,
          1707.9089852807324,
          1713.9064477017405,
          1738.1288624589215,
          1740.0913342924,
          1744.2599008051043,
          1831.2306428932366,
          1840.4834129732353,
          1851.186375780153,
          1854.472665912403,
          1872.5445885801496,
          1888.7335257260465,
          1897.3278174293996,
          1917.0352943040625,
          1932.8451520080553,
          1942.5005933288098,
          1945.1721524717254,
          1950.7059399065588,
          1951.6420356708836,
          1966.255401081175,
          1981.8594336437968,
          1993.0381912890098,
          2003.206468010595,
          2007.3125307212476,
          2008.851136192693,
          2023.1482361658104,
          2039.6425286718168,
          2040.2254866741982,
          2041.304233597854,
          2050.1481804150626,
          2056.1958180135716,
          2069.96109402101,
          2076.1218776832784,
          2099.567103934189,
          2107.3965858471624,
          2115.1029578535795,
          2120.059978639929,
          2123.799863050914,
          2134.6866010243375,
          2135.6601057977223,
          2137.688882121943,
          2138.3887720039324,
          2139.0383017157696,
          2147.7526715112704,
          2151.9966533245642,
          2152.559600471305,
          2153.9666326128754,
          2165.981399125358,
          2175.2323905351436,
          2183.4531447318213,
          2186.613748994626,
          2190.6801435484376,
          2192.685327813918,
          2220.4093743794438,
          2221.412141612589,
          2221.6943876530136,
          2227.7355057389404,
          2229.968808068802,
          2234.0095553813107,
          2256.1394263171505,
          2256.9351204441846,
          2272.3947548810997,
          2272.8136318019715,
          2280.132453474726,
          2293.988509191009,
          2298.6797280591422,
          2298.900245907266,
          2300.1495757388734,
          2315.805969774786,
          2323.3281675868598,
          2347.2709037975,
          2357.7948097432773,
          2360.210136617261,
          2361.9812555547114,
          2390.3567333601045,
          2400.4680197905914,
          2402.1276489066663,
          2403.227977258687,
          2422.1082335159845,
          2422.6760978432685,
          2424.908249890084,
          2434.5057518425074,
          2443.5251942819336,
          2444.633767741747,
          2450.462898455676,
          2456.244501865293,
          2458.2171703768954,
          2465.4435933849045,
          2467.4264062086536,
          2476.6264336885265,
          2488.056668373968,
          2494.014579816889,
          2500.9045865193007,
          2504.134534856498,
          2507.309207081825,
          2524.854091829758,
          2527.5544876873005,
          2544.086864248044,
          2544.4409634017893,
          2549.1998332627604,
          2561.2283545046785,
          2568.695486903077,
          2571.3690386585617,
          2599.814426840965,
          2602.3956786888753,
          2611.694708339015,
          2624.479095661185,
          2630.8617224784216,
          2631.495992091456,
          2644.6726650496025,
          2646.190127360682,
          2657.62846408186,
          2664.4723287353586,
          2700.253145834722,
          2705.028755899383,
          2729.8648542802903,
          2731.8053816826423,
          2736.692743299673,
          2754.0234907512718,
          2756.3134470340874,
          2767.838327055084,
          2816.0032887833167,
          2829.2065430939774,
          2850.3704416968985,
          2860.756669602423,
          2914.7816220168493,
          2968.6039904889644,
          2978.0153441145603,
          2995.1962257871696,
          3074.005787959455,
          3100.728451411391,
          3108.6419227568817,
          3126.9268698925434,
          5255.636843398772,
          5329.30901665956,
          5407.016673050445,
          5459.985968861291,
          5520.863106146012,
          5581.19629262622,
          5584.3783230744275,
          5590.563417425223,
          5591.586605459416,
          5597.854245617331,
          5600.087573158218,
          5603.340962163751,
          5640.084623163495,
          5656.924715215432,
          5667.651027502984,
          5670.708862723881,
          5675.187663154558,
          5699.182832499507,
          5724.7370368006505,
          5728.626657026206,
          5735.0477685400165,
          5754.336139743546,
          5757.053584128314,
          5774.088359351188,
          5789.73111421333,
          5794.27677208943,
          5798.350387251803,
          5807.604968928556,
          5814.082427225491,
          5824.535448481693,
          5828.096766648841,
          5829.927252540468,
          5832.505928895143,
          5847.439359521501,
          5853.37532461026,
          5869.146255361042,
          5869.740441548666,
          5878.371827524363,
          5879.5962287408065,
          5892.4982216385015,
          5892.702361484158,
          5903.977337376607,
          5910.561225072463,
          5912.862775758509,
          5913.218553418977,
          5929.807724763236,
          5932.901129661438,
          5936.143346216725,
          5944.098620334542,
          5944.223436948421,
          5958.248634645961,
          5969.937285358449,
          5969.981554503255,
          5970.117602206949,
          5970.850244408551,
          5979.516681678203,
          5983.152586226161,
          6025.850981900834,
          6026.073386393089,
          6034.978179915481,
          6038.8852971770475,
          6039.292503931137,
          6042.2487838348225,
          6046.531486359329,
          6047.050388145298,
          6048.21099449559,
          6049.12976402153,
          6063.017660776154,
          6069.464123661259,
          6070.358479374351,
          6080.52746975748,
          6083.317603769962,
          6099.888760653656,
          6100.558659989039,
          6108.504803504944,
          6119.54336136403,
          6129.452634770737,
          6132.195036904134,
          6133.364520514268,
          6134.295462483751,
          6138.741649567467,
          6141.65024715772,
          6144.7926186812,
          6144.971553237442,
          6152.628658461761,
          6153.439752409096,
          6153.913007085161,
          6155.421355616985,
          6155.949650431563,
          6168.445722918341,
          6174.355180173671,
          6177.646769979464,
          6179.476595849492,
          6179.593505245354,
          6180.550940045262,
          6183.342406850934,
          6188.411694770121,
          6188.46953543848,
          6200.027643262266,
          6205.538420683358,
          6206.256387627184,
          6207.588084946265,
          6208.672790846964,
          6212.901077459169,
          6217.119163375848,
          6230.897033330121,
          6232.508483459548,
          6255.521566913357,
          6257.730840342865,
          6259.0096485412705,
          6263.538370338177,
          6268.1163396236525,
          6282.535968661748,
          6288.334360260385,
          6298.705926367925,
          6301.347092268478,
          6311.788977961739,
          6319.914835346345,
          6324.64265256175,
          6326.004910754874,
          6330.413925100958,
          6330.428277469313,
          6334.682073291277,
          6335.050432291304,
          6339.0972251671565,
          6344.749983276543,
          6349.296197584929,
          6349.436070659547,
          6350.893728424683,
          6360.3792603528245,
          6364.630733171579,
          6366.8740669317285,
          6372.228462856762,
          6379.804333258299,
          6382.330399112639,
          6383.414795156526,
          6388.255926490495,
          6391.09236492794,
          6397.475981128729,
          6425.977825828488,
          6435.228277659897,
          6436.222878594949,
          6454.615629424226,
          6456.430759687811,
          6468.793064864285,
          6477.8333896942895,
          6478.25252966057,
          6482.651189236742,
          6483.749947476916,
          6488.467779596979,
          6496.119385682117,
          6506.350326970131,
          6516.763602081711,
          6521.481839425613,
          6527.474017233781,
          6534.788333690446,
          6536.13047769313,
          6558.951960444432,
          6559.604301920457,
          6559.997316023201,
          6567.439581253988,
          6572.436113475554,
          6610.3348187946785,
          6616.352823800776,
          6655.663437970786,
          6683.881349426855,
          6720.737031664207,
          6721.334696211723,
          6730.656494023355,
          6750.874522283195,
          6815.499753180927,
          6830.787699317569,
          6912.716355940717,
          6972.898080437469,
          6983.252275453133,
          6990.42128651974,
          7028.178670383311,
          7044.608452761882,
          7056.267179955035,
          7065.62405720394,
          7090.596233076864,
          7095.5971251838155,
          7171.341530421816,
          7216.9391909710075,
          8675.718309274851,
          8975.147562139106,
          9007.448518137035,
          9180.62935691805,
          9301.257186589322,
          9395.999864396117,
          9397.5252483179,
          9438.424780266027,
          9466.24912885771,
          9471.9399385564,
          9520.170073099458,
          9526.216471851783,
          9538.784587663376,
          9549.150050645909,
          9571.130944205328,
          9574.805632044034,
          9596.286531478381,
          9631.144261113268,
          9636.9067815928,
          9655.485068921545,
          9658.690324831041,
          9661.54849692512,
          9664.281750329259,
          9666.633082310998,
          9696.225084062395,
          9722.25679703899,
          9769.863013830576,
          9779.266595205272,
          9863.088499123449,
          9866.316258929213,
          9879.192047788862,
          9892.826912014649,
          9894.43102681546,
          9896.359290476343,
          9907.837817341768,
          9959.987813533711,
          9983.890904781972,
          9991.274426051748,
          10004.826306505514,
          10012.150097364747,
          10079.50762365043,
          10080.070574199313,
          10131.317926049418,
          10131.834020553737,
          10157.643809631438,
          10197.434548581678,
          10313.460754265298,
          10321.133153070923,
          10325.897685358674,
          10373.818550617983,
          10413.635163055687,
          10484.89979400723,
          10485.908999920639,
          10555.378046636852,
          10573.44372488089,
          10772.178117532934,
          10799.64482902053,
          10827.455024668287,
          10834.419602643195,
          10867.954587670589,
          10870.931842016293,
          10962.688695022362,
          10967.773726930405,
          11104.61707901791,
          11230.405201669195,
          11241.811884603689,
          12225.66615756244,
          12800.13018100227,
          13365.820034693115,
          13404.08715878829,
          13511.12560197679,
          13698.294075802682,
          13746.112612750421,
          13785.569237440051,
          13923.98330077674,
          13997.85229977659,
          14053.515963674568,
          14075.799133178742,
          14176.75473094088,
          14199.897829675456,
          14236.371798022377,
          14276.726138393704,
          14286.527181276457,
          14338.836421579785,
          14366.299376564319,
          14385.319864924984,
          14414.099869913505,
          14532.320116465105,
          14564.136239818925,
          14586.145034840347,
          14605.755066911628,
          14777.357271514093,
          14797.931969157222,
          15103.642369754249,
          15322.75347559794,
          16571.009576261975,
          17170.107925314445,
          17173.40143395203,
          17235.560234680677,
          17239.77479982038,
          17527.367597840635,
          17542.96761471537,
          17550.557190668613,
          17550.826323863443,
          17577.133751363242,
          17756.95538189355,
          17786.72347033142,
          17820.6734971237,
          18046.20197070143,
          18131.088125436854,
          18240.54776798078,
          18442.751763998334,
          18561.338105166324,
          18685.17992325974,
          18739.267783580606,
          18836.596402529107,
          18863.426487817407
         ],
         "yaxis": "y"
        }
       ],
       "layout": {
        "legend": {
         "tracegroupgap": 0
        },
        "margin": {
         "t": 60
        },
        "template": {
         "data": {
          "bar": [
           {
            "error_x": {
             "color": "#2a3f5f"
            },
            "error_y": {
             "color": "#2a3f5f"
            },
            "marker": {
             "line": {
              "color": "#E5ECF6",
              "width": 0.5
             },
             "pattern": {
              "fillmode": "overlay",
              "size": 10,
              "solidity": 0.2
             }
            },
            "type": "bar"
           }
          ],
          "barpolar": [
           {
            "marker": {
             "line": {
              "color": "#E5ECF6",
              "width": 0.5
             },
             "pattern": {
              "fillmode": "overlay",
              "size": 10,
              "solidity": 0.2
             }
            },
            "type": "barpolar"
           }
          ],
          "carpet": [
           {
            "aaxis": {
             "endlinecolor": "#2a3f5f",
             "gridcolor": "white",
             "linecolor": "white",
             "minorgridcolor": "white",
             "startlinecolor": "#2a3f5f"
            },
            "baxis": {
             "endlinecolor": "#2a3f5f",
             "gridcolor": "white",
             "linecolor": "white",
             "minorgridcolor": "white",
             "startlinecolor": "#2a3f5f"
            },
            "type": "carpet"
           }
          ],
          "choropleth": [
           {
            "colorbar": {
             "outlinewidth": 0,
             "ticks": ""
            },
            "type": "choropleth"
           }
          ],
          "contour": [
           {
            "colorbar": {
             "outlinewidth": 0,
             "ticks": ""
            },
            "colorscale": [
             [
              0,
              "#0d0887"
             ],
             [
              0.1111111111111111,
              "#46039f"
             ],
             [
              0.2222222222222222,
              "#7201a8"
             ],
             [
              0.3333333333333333,
              "#9c179e"
             ],
             [
              0.4444444444444444,
              "#bd3786"
             ],
             [
              0.5555555555555556,
              "#d8576b"
             ],
             [
              0.6666666666666666,
              "#ed7953"
             ],
             [
              0.7777777777777778,
              "#fb9f3a"
             ],
             [
              0.8888888888888888,
              "#fdca26"
             ],
             [
              1,
              "#f0f921"
             ]
            ],
            "type": "contour"
           }
          ],
          "contourcarpet": [
           {
            "colorbar": {
             "outlinewidth": 0,
             "ticks": ""
            },
            "type": "contourcarpet"
           }
          ],
          "heatmap": [
           {
            "colorbar": {
             "outlinewidth": 0,
             "ticks": ""
            },
            "colorscale": [
             [
              0,
              "#0d0887"
             ],
             [
              0.1111111111111111,
              "#46039f"
             ],
             [
              0.2222222222222222,
              "#7201a8"
             ],
             [
              0.3333333333333333,
              "#9c179e"
             ],
             [
              0.4444444444444444,
              "#bd3786"
             ],
             [
              0.5555555555555556,
              "#d8576b"
             ],
             [
              0.6666666666666666,
              "#ed7953"
             ],
             [
              0.7777777777777778,
              "#fb9f3a"
             ],
             [
              0.8888888888888888,
              "#fdca26"
             ],
             [
              1,
              "#f0f921"
             ]
            ],
            "type": "heatmap"
           }
          ],
          "heatmapgl": [
           {
            "colorbar": {
             "outlinewidth": 0,
             "ticks": ""
            },
            "colorscale": [
             [
              0,
              "#0d0887"
             ],
             [
              0.1111111111111111,
              "#46039f"
             ],
             [
              0.2222222222222222,
              "#7201a8"
             ],
             [
              0.3333333333333333,
              "#9c179e"
             ],
             [
              0.4444444444444444,
              "#bd3786"
             ],
             [
              0.5555555555555556,
              "#d8576b"
             ],
             [
              0.6666666666666666,
              "#ed7953"
             ],
             [
              0.7777777777777778,
              "#fb9f3a"
             ],
             [
              0.8888888888888888,
              "#fdca26"
             ],
             [
              1,
              "#f0f921"
             ]
            ],
            "type": "heatmapgl"
           }
          ],
          "histogram": [
           {
            "marker": {
             "pattern": {
              "fillmode": "overlay",
              "size": 10,
              "solidity": 0.2
             }
            },
            "type": "histogram"
           }
          ],
          "histogram2d": [
           {
            "colorbar": {
             "outlinewidth": 0,
             "ticks": ""
            },
            "colorscale": [
             [
              0,
              "#0d0887"
             ],
             [
              0.1111111111111111,
              "#46039f"
             ],
             [
              0.2222222222222222,
              "#7201a8"
             ],
             [
              0.3333333333333333,
              "#9c179e"
             ],
             [
              0.4444444444444444,
              "#bd3786"
             ],
             [
              0.5555555555555556,
              "#d8576b"
             ],
             [
              0.6666666666666666,
              "#ed7953"
             ],
             [
              0.7777777777777778,
              "#fb9f3a"
             ],
             [
              0.8888888888888888,
              "#fdca26"
             ],
             [
              1,
              "#f0f921"
             ]
            ],
            "type": "histogram2d"
           }
          ],
          "histogram2dcontour": [
           {
            "colorbar": {
             "outlinewidth": 0,
             "ticks": ""
            },
            "colorscale": [
             [
              0,
              "#0d0887"
             ],
             [
              0.1111111111111111,
              "#46039f"
             ],
             [
              0.2222222222222222,
              "#7201a8"
             ],
             [
              0.3333333333333333,
              "#9c179e"
             ],
             [
              0.4444444444444444,
              "#bd3786"
             ],
             [
              0.5555555555555556,
              "#d8576b"
             ],
             [
              0.6666666666666666,
              "#ed7953"
             ],
             [
              0.7777777777777778,
              "#fb9f3a"
             ],
             [
              0.8888888888888888,
              "#fdca26"
             ],
             [
              1,
              "#f0f921"
             ]
            ],
            "type": "histogram2dcontour"
           }
          ],
          "mesh3d": [
           {
            "colorbar": {
             "outlinewidth": 0,
             "ticks": ""
            },
            "type": "mesh3d"
           }
          ],
          "parcoords": [
           {
            "line": {
             "colorbar": {
              "outlinewidth": 0,
              "ticks": ""
             }
            },
            "type": "parcoords"
           }
          ],
          "pie": [
           {
            "automargin": true,
            "type": "pie"
           }
          ],
          "scatter": [
           {
            "fillpattern": {
             "fillmode": "overlay",
             "size": 10,
             "solidity": 0.2
            },
            "type": "scatter"
           }
          ],
          "scatter3d": [
           {
            "line": {
             "colorbar": {
              "outlinewidth": 0,
              "ticks": ""
             }
            },
            "marker": {
             "colorbar": {
              "outlinewidth": 0,
              "ticks": ""
             }
            },
            "type": "scatter3d"
           }
          ],
          "scattercarpet": [
           {
            "marker": {
             "colorbar": {
              "outlinewidth": 0,
              "ticks": ""
             }
            },
            "type": "scattercarpet"
           }
          ],
          "scattergeo": [
           {
            "marker": {
             "colorbar": {
              "outlinewidth": 0,
              "ticks": ""
             }
            },
            "type": "scattergeo"
           }
          ],
          "scattergl": [
           {
            "marker": {
             "colorbar": {
              "outlinewidth": 0,
              "ticks": ""
             }
            },
            "type": "scattergl"
           }
          ],
          "scattermapbox": [
           {
            "marker": {
             "colorbar": {
              "outlinewidth": 0,
              "ticks": ""
             }
            },
            "type": "scattermapbox"
           }
          ],
          "scatterpolar": [
           {
            "marker": {
             "colorbar": {
              "outlinewidth": 0,
              "ticks": ""
             }
            },
            "type": "scatterpolar"
           }
          ],
          "scatterpolargl": [
           {
            "marker": {
             "colorbar": {
              "outlinewidth": 0,
              "ticks": ""
             }
            },
            "type": "scatterpolargl"
           }
          ],
          "scatterternary": [
           {
            "marker": {
             "colorbar": {
              "outlinewidth": 0,
              "ticks": ""
             }
            },
            "type": "scatterternary"
           }
          ],
          "surface": [
           {
            "colorbar": {
             "outlinewidth": 0,
             "ticks": ""
            },
            "colorscale": [
             [
              0,
              "#0d0887"
             ],
             [
              0.1111111111111111,
              "#46039f"
             ],
             [
              0.2222222222222222,
              "#7201a8"
             ],
             [
              0.3333333333333333,
              "#9c179e"
             ],
             [
              0.4444444444444444,
              "#bd3786"
             ],
             [
              0.5555555555555556,
              "#d8576b"
             ],
             [
              0.6666666666666666,
              "#ed7953"
             ],
             [
              0.7777777777777778,
              "#fb9f3a"
             ],
             [
              0.8888888888888888,
              "#fdca26"
             ],
             [
              1,
              "#f0f921"
             ]
            ],
            "type": "surface"
           }
          ],
          "table": [
           {
            "cells": {
             "fill": {
              "color": "#EBF0F8"
             },
             "line": {
              "color": "white"
             }
            },
            "header": {
             "fill": {
              "color": "#C8D4E3"
             },
             "line": {
              "color": "white"
             }
            },
            "type": "table"
           }
          ]
         },
         "layout": {
          "annotationdefaults": {
           "arrowcolor": "#2a3f5f",
           "arrowhead": 0,
           "arrowwidth": 1
          },
          "autotypenumbers": "strict",
          "coloraxis": {
           "colorbar": {
            "outlinewidth": 0,
            "ticks": ""
           }
          },
          "colorscale": {
           "diverging": [
            [
             0,
             "#8e0152"
            ],
            [
             0.1,
             "#c51b7d"
            ],
            [
             0.2,
             "#de77ae"
            ],
            [
             0.3,
             "#f1b6da"
            ],
            [
             0.4,
             "#fde0ef"
            ],
            [
             0.5,
             "#f7f7f7"
            ],
            [
             0.6,
             "#e6f5d0"
            ],
            [
             0.7,
             "#b8e186"
            ],
            [
             0.8,
             "#7fbc41"
            ],
            [
             0.9,
             "#4d9221"
            ],
            [
             1,
             "#276419"
            ]
           ],
           "sequential": [
            [
             0,
             "#0d0887"
            ],
            [
             0.1111111111111111,
             "#46039f"
            ],
            [
             0.2222222222222222,
             "#7201a8"
            ],
            [
             0.3333333333333333,
             "#9c179e"
            ],
            [
             0.4444444444444444,
             "#bd3786"
            ],
            [
             0.5555555555555556,
             "#d8576b"
            ],
            [
             0.6666666666666666,
             "#ed7953"
            ],
            [
             0.7777777777777778,
             "#fb9f3a"
            ],
            [
             0.8888888888888888,
             "#fdca26"
            ],
            [
             1,
             "#f0f921"
            ]
           ],
           "sequentialminus": [
            [
             0,
             "#0d0887"
            ],
            [
             0.1111111111111111,
             "#46039f"
            ],
            [
             0.2222222222222222,
             "#7201a8"
            ],
            [
             0.3333333333333333,
             "#9c179e"
            ],
            [
             0.4444444444444444,
             "#bd3786"
            ],
            [
             0.5555555555555556,
             "#d8576b"
            ],
            [
             0.6666666666666666,
             "#ed7953"
            ],
            [
             0.7777777777777778,
             "#fb9f3a"
            ],
            [
             0.8888888888888888,
             "#fdca26"
            ],
            [
             1,
             "#f0f921"
            ]
           ]
          },
          "colorway": [
           "#636efa",
           "#EF553B",
           "#00cc96",
           "#ab63fa",
           "#FFA15A",
           "#19d3f3",
           "#FF6692",
           "#B6E880",
           "#FF97FF",
           "#FECB52"
          ],
          "font": {
           "color": "#2a3f5f"
          },
          "geo": {
           "bgcolor": "white",
           "lakecolor": "white",
           "landcolor": "#E5ECF6",
           "showlakes": true,
           "showland": true,
           "subunitcolor": "white"
          },
          "hoverlabel": {
           "align": "left"
          },
          "hovermode": "closest",
          "mapbox": {
           "style": "light"
          },
          "paper_bgcolor": "white",
          "plot_bgcolor": "#E5ECF6",
          "polar": {
           "angularaxis": {
            "gridcolor": "white",
            "linecolor": "white",
            "ticks": ""
           },
           "bgcolor": "#E5ECF6",
           "radialaxis": {
            "gridcolor": "white",
            "linecolor": "white",
            "ticks": ""
           }
          },
          "scene": {
           "xaxis": {
            "backgroundcolor": "#E5ECF6",
            "gridcolor": "white",
            "gridwidth": 2,
            "linecolor": "white",
            "showbackground": true,
            "ticks": "",
            "zerolinecolor": "white"
           },
           "yaxis": {
            "backgroundcolor": "#E5ECF6",
            "gridcolor": "white",
            "gridwidth": 2,
            "linecolor": "white",
            "showbackground": true,
            "ticks": "",
            "zerolinecolor": "white"
           },
           "zaxis": {
            "backgroundcolor": "#E5ECF6",
            "gridcolor": "white",
            "gridwidth": 2,
            "linecolor": "white",
            "showbackground": true,
            "ticks": "",
            "zerolinecolor": "white"
           }
          },
          "shapedefaults": {
           "line": {
            "color": "#2a3f5f"
           }
          },
          "ternary": {
           "aaxis": {
            "gridcolor": "white",
            "linecolor": "white",
            "ticks": ""
           },
           "baxis": {
            "gridcolor": "white",
            "linecolor": "white",
            "ticks": ""
           },
           "bgcolor": "#E5ECF6",
           "caxis": {
            "gridcolor": "white",
            "linecolor": "white",
            "ticks": ""
           }
          },
          "title": {
           "x": 0.05
          },
          "xaxis": {
           "automargin": true,
           "gridcolor": "white",
           "linecolor": "white",
           "ticks": "",
           "title": {
            "standoff": 15
           },
           "zerolinecolor": "white",
           "zerolinewidth": 2
          },
          "yaxis": {
           "automargin": true,
           "gridcolor": "white",
           "linecolor": "white",
           "ticks": "",
           "title": {
            "standoff": 15
           },
           "zerolinecolor": "white",
           "zerolinewidth": 2
          }
         }
        },
        "xaxis": {
         "anchor": "y",
         "domain": [
          0,
          1
         ],
         "title": {
          "text": "x"
         }
        },
        "yaxis": {
         "anchor": "x",
         "domain": [
          0,
          1
         ],
         "title": {
          "text": "y"
         }
        }
       }
      }
     },
     "metadata": {},
     "output_type": "display_data"
    }
   ],
   "source": [
    "from sklearn.linear_model import LinearRegression\n",
    "from sklearn.metrics import accuracy_score,mean_squared_error,r2_score\n",
    "\n",
    "\n",
    "# تقسيم الميزات (X) والهدف (y)\n",
    "X = data.drop('MonthlyIncome', axis=1)\n",
    "y = data['MonthlyIncome']\n",
    "\n",
    "# تقسيم البيانات إلى تدريب واختبار\n",
    "X_train, X_test, y_train, y_test = train_test_split(X, y, test_size=0.3, random_state=42)\n",
    "pca = PCA(n_components=25)\n",
    "x_train_pca = pca.fit_transform(X_train)\n",
    "x_test_pca = pca.transform(X_test)\n",
    "x_train_pca = pd.DataFrame(x_train_pca)\n",
    "x_test_pca = pd.DataFrame(x_test_pca)\n",
    "\n",
    "# بناء نموذج الانحدار الخطي\n",
    "model = LinearRegression()\n",
    "model.fit(x_train_pca, y_train)\n",
    "\n",
    "# التنبؤ بالقيم\n",
    "y_pred = model.predict(x_test_pca)\n",
    "\n",
    "# تقييم النموذج\n",
    "mse = mean_squared_error(y_test, y_pred)\n",
    "r2 = r2_score(y_test, y_pred)\n",
    "# print(f'Accuracy: {accuracy_score(y_test, y_pred)}')\n",
    "print(f'Mean Squared Error: {mse:.2f}')\n",
    "print(f'R^2 Score: {r2:.2f}')\n",
    "px.scatter(x=y_pred,y=y_test,trendline='ols')\n"
   ]
  },
  {
   "cell_type": "code",
   "execution_count": 10,
   "metadata": {},
   "outputs": [
    {
     "data": {
      "text/plain": [
       "PerformanceRating\n",
       "3    1244\n",
       "4     226\n",
       "Name: count, dtype: int64"
      ]
     },
     "execution_count": 10,
     "metadata": {},
     "output_type": "execute_result"
    }
   ],
   "source": [
    "data[\"PerformanceRating\"].value_counts()"
   ]
  },
  {
   "cell_type": "code",
   "execution_count": 11,
   "metadata": {},
   "outputs": [
    {
     "data": {
      "text/plain": [
       "JobSatisfaction\n",
       "4.0    510\n",
       "3.0    424\n",
       "1.0    276\n",
       "2.0    260\n",
       "Name: count, dtype: int64"
      ]
     },
     "execution_count": 11,
     "metadata": {},
     "output_type": "execute_result"
    }
   ],
   "source": [
    "data[\"JobSatisfaction\"].value_counts()"
   ]
  },
  {
   "cell_type": "code",
   "execution_count": 12,
   "metadata": {},
   "outputs": [
    {
     "name": "stdout",
     "output_type": "stream",
     "text": [
      "              precision    recall  f1-score   support\n",
      "\n",
      "           3       1.00      0.89      0.94       381\n",
      "           4       0.90      1.00      0.95       366\n",
      "\n",
      "    accuracy                           0.94       747\n",
      "   macro avg       0.95      0.94      0.94       747\n",
      "weighted avg       0.95      0.94      0.94       747\n",
      "\n"
     ]
    },
    {
     "name": "stderr",
     "output_type": "stream",
     "text": [
      "c:\\Users\\CompuMarts\\anaconda3\\Lib\\site-packages\\sklearn\\linear_model\\_logistic.py:469: ConvergenceWarning:\n",
      "\n",
      "lbfgs failed to converge (status=1):\n",
      "STOP: TOTAL NO. of ITERATIONS REACHED LIMIT.\n",
      "\n",
      "Increase the number of iterations (max_iter) or scale the data as shown in:\n",
      "    https://scikit-learn.org/stable/modules/preprocessing.html\n",
      "Please also refer to the documentation for alternative solver options:\n",
      "    https://scikit-learn.org/stable/modules/linear_model.html#logistic-regression\n",
      "\n"
     ]
    },
    {
     "data": {
      "image/png": "[encoded data removed]",
      "text/plain": [
       "<Figure size 600x400 with 2 Axes>"
      ]
     },
     "metadata": {},
     "output_type": "display_data"
    }
   ],
   "source": [
    "# Performance Rating Prediction\n",
    "from sklearn.model_selection import train_test_split\n",
    "from imblearn.over_sampling import RandomOverSampler\n",
    "from sklearn.metrics import classification_report\n",
    "\n",
    "# Assuming 'data' is your DataFrame\n",
    "# Features (X) and target (y)\n",
    "X = data.drop('PerformanceRating', axis=1)\n",
    "y = data['PerformanceRating']\n",
    "\n",
    "\n",
    "rus = RandomOverSampler(sampling_strategy='auto', random_state=42)\n",
    "X_overesampled, y_overesampled = rus.fit_resample(X, y)\n",
    "\n",
    "# Train-test split\n",
    "X_train, X_test, y_train, y_test = train_test_split(X_overesampled, y_overesampled, test_size=0.3, random_state=42)\n",
    "\n",
    "pca = PCA(n_components=25)\n",
    "x_train_pca = pca.fit_transform(X_train)\n",
    "x_test_pca = pca.transform(X_test)\n",
    "x_train_pca = pd.DataFrame(x_train_pca)\n",
    "x_test_pca = pd.DataFrame(x_test_pca)\n",
    "\n",
    "model = LogisticRegression(C=0.01, random_state=42)\n",
    "\n",
    "model.fit(x_train_pca, y_train)\n",
    "\n",
    "# Predictions and evaluation\n",
    "y_pred = model.predict(x_test_pca)\n",
    "\n",
    "# Print classification report\n",
    "print(classification_report(y_test, y_pred))\n",
    "conf_matrix = confusion_matrix(y_test, y_pred)\n",
    "plt.figure(figsize=(6, 4))\n",
    "sns.heatmap(conf_matrix, annot=True, fmt='d', cmap='Blues')\n",
    "plt.title('Confusion Matrix for Attrition Prediction')\n",
    "plt.xlabel('Predicted')\n",
    "plt.ylabel('Actual')\n",
    "plt.show()"
   ]
  },
  {
   "cell_type": "code",
   "execution_count": 13,
   "metadata": {},
   "outputs": [
    {
     "data": {
      "text/plain": [
       "<matplotlib.legend.Legend at 0x1925dbaf6e0>"
      ]
     },
     "execution_count": 13,
     "metadata": {},
     "output_type": "execute_result"
    },
    {
     "data": {
      "image/png": "[encoded data removed]",
      "text/plain": [
       "<Figure size 640x480 with 1 Axes>"
      ]
     },
     "metadata": {},
     "output_type": "display_data"
    }
   ],
   "source": [
    "y_pred = y_pred.squeeze()\n",
    "x_test_view = X_test[\"Age\"].values.squeeze()\n",
    "sns.scatterplot(x = x_test_view, y = y_pred, hue = y_test)\n",
    "plt.xlabel('Radius')\n",
    "plt.ylabel('Predicted')\n",
    "plt.legend()"
   ]
  },
  {
   "cell_type": "code",
   "execution_count": 14,
   "metadata": {},
   "outputs": [
    {
     "data": {
      "text/plain": [
       "JobSatisfaction\n",
       "4.0    510\n",
       "3.0    424\n",
       "1.0    276\n",
       "2.0    260\n",
       "Name: count, dtype: int64"
      ]
     },
     "execution_count": 14,
     "metadata": {},
     "output_type": "execute_result"
    }
   ],
   "source": [
    "data['JobSatisfaction'].value_counts()"
   ]
  },
  {
   "cell_type": "code",
   "execution_count": 15,
   "metadata": {},
   "outputs": [
    {
     "data": {
      "text/plain": [
       "WorkLifeBalance\n",
       "3    893\n",
       "2    344\n",
       "4    153\n",
       "1     80\n",
       "Name: count, dtype: int64"
      ]
     },
     "execution_count": 15,
     "metadata": {},
     "output_type": "execute_result"
    }
   ],
   "source": [
    "data[\"WorkLifeBalance\"].value_counts()"
   ]
  },
  {
   "cell_type": "code",
   "execution_count": 20,
   "metadata": {},
   "outputs": [
    {
     "name": "stdout",
     "output_type": "stream",
     "text": [
      "              precision    recall  f1-score   support\n",
      "\n",
      "           1       1.00      1.00      1.00       249\n",
      "           2       0.78      0.89      0.83       245\n",
      "           3       0.90      0.81      0.85       311\n",
      "           4       0.99      0.99      0.99       267\n",
      "\n",
      "    accuracy                           0.92      1072\n",
      "   macro avg       0.92      0.92      0.92      1072\n",
      "weighted avg       0.92      0.92      0.92      1072\n",
      "\n"
     ]
    },
    {
     "data": {
      "image/png": "[encoded data removed]",
      "text/plain": [
       "<Figure size 1000x600 with 1 Axes>"
      ]
     },
     "metadata": {},
     "output_type": "display_data"
    }
   ],
   "source": [
    "from sklearn.ensemble import RandomForestClassifier\n",
    "from matplotlib.ticker import FuncFormatter\n",
    "\n",
    "\n",
    "# Split data into features and target\n",
    "X = data.drop('WorkLifeBalance', axis=1)\n",
    "y = data['WorkLifeBalance']\n",
    "rus = RandomOverSampler(sampling_strategy='auto', random_state=42)\n",
    "X_oversampled, y_oversampled = rus.fit_resample(X, y)\n",
    "\n",
    "X_train, X_test, y_train, y_test = train_test_split(X_oversampled, y_oversampled, test_size=0.3, random_state=42)\n",
    "\n",
    "# Train the Random Forest model\n",
    "model = RandomForestClassifier(n_estimators=100, random_state=42)\n",
    "model.fit(X_train, y_train)\n",
    "\n",
    "# Make predictions and evaluate the model\n",
    "y_pred = model.predict(X_test)\n",
    "print(classification_report(y_pred, y_test))\n",
    "\n",
    "# Get feature importance\n",
    "importance = model.feature_importances_\n",
    "feature_importance = pd.Series(importance, index=X.columns).sort_values(ascending=False) * 100\n",
    "\n",
    "# Define a function to format the y-axis ticks as percentages\n",
    "def to_percent(y, position):\n",
    "    return f'{y:.0f}%'\n",
    "\n",
    "# Plot feature importance\n",
    "plt.figure(figsize=(10, 6))\n",
    "feature_importance.plot(kind='bar')\n",
    "plt.title('Feature Importance in Random Forest')\n",
    "plt.ylabel('Importance')\n",
    "\n",
    "# Apply percentage formatting to the y-axis\n",
    "plt.gca().yaxis.set_major_formatter(FuncFormatter(to_percent))\n",
    "\n",
    "plt.show()"
   ]
  },
  {
   "cell_type": "code",
   "execution_count": null,
   "metadata": {},
   "outputs": [],
   "source": []
  }
 ],
 "metadata": {
  "kernelspec": {
   "display_name": "base",
   "language": "python",
   "name": "python3"
  },
  "language_info": {
   "codemirror_mode": {
    "name": "ipython",
    "version": 3
   },
   "file_extension": ".py",
   "mimetype": "text/x-python",
   "name": "python",
   "nbconvert_exporter": "python",
   "pygments_lexer": "ipython3",
   "version": "3.12.4"
  }
 },
 "nbformat": 4,
 "nbformat_minor": 2
}
