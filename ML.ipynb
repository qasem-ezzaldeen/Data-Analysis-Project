{
 "cells": [
  {
   "cell_type": "code",
   "execution_count": 26,
   "metadata": {},
   "outputs": [],
   "source": [
    "import pandas as pd\n",
    "import matplotlib.pyplot as plt\n",
    "import seaborn as sns\n",
    "import plotly.express as px\n",
    "pd.options.mode.chained_assignment = None\n"
   ]
  },
  {
   "cell_type": "code",
   "execution_count": 27,
   "metadata": {},
   "outputs": [
    {
     "data": {
      "text/html": [
       "<div>\n",
       "<style scoped>\n",
       "    .dataframe tbody tr th:only-of-type {\n",
       "        vertical-align: middle;\n",
       "    }\n",
       "\n",
       "    .dataframe tbody tr th {\n",
       "        vertical-align: top;\n",
       "    }\n",
       "\n",
       "    .dataframe thead th {\n",
       "        text-align: right;\n",
       "    }\n",
       "</style>\n",
       "<table border=\"1\" class=\"dataframe\">\n",
       "  <thead>\n",
       "    <tr style=\"text-align: right;\">\n",
       "      <th></th>\n",
       "      <th>EmployeeNumber</th>\n",
       "      <th>Age</th>\n",
       "      <th>Attrition</th>\n",
       "      <th>BusinessTravel</th>\n",
       "      <th>DailyRate</th>\n",
       "      <th>Department</th>\n",
       "      <th>DistanceFromHome</th>\n",
       "      <th>Education</th>\n",
       "      <th>EducationField</th>\n",
       "      <th>EnvironmentSatisfaction</th>\n",
       "      <th>...</th>\n",
       "      <th>PerformanceRating</th>\n",
       "      <th>RelationshipSatisfaction</th>\n",
       "      <th>StockOptionLevel</th>\n",
       "      <th>TotalWorkingYears</th>\n",
       "      <th>TrainingTimesLastYear</th>\n",
       "      <th>WorkLifeBalance</th>\n",
       "      <th>YearsAtCompany</th>\n",
       "      <th>YearsInCurrentRole</th>\n",
       "      <th>YearsSinceLastPromotion</th>\n",
       "      <th>YearsWithCurrManager</th>\n",
       "    </tr>\n",
       "  </thead>\n",
       "  <tbody>\n",
       "    <tr>\n",
       "      <th>0</th>\n",
       "      <td>1</td>\n",
       "      <td>41.0</td>\n",
       "      <td>Yes</td>\n",
       "      <td>Travel_Rarely</td>\n",
       "      <td>802.0</td>\n",
       "      <td>Sales</td>\n",
       "      <td>1</td>\n",
       "      <td>2</td>\n",
       "      <td>Life Sciences</td>\n",
       "      <td>2</td>\n",
       "      <td>...</td>\n",
       "      <td>3</td>\n",
       "      <td>1</td>\n",
       "      <td>0</td>\n",
       "      <td>8</td>\n",
       "      <td>0</td>\n",
       "      <td>1</td>\n",
       "      <td>6.0</td>\n",
       "      <td>4</td>\n",
       "      <td>0</td>\n",
       "      <td>5</td>\n",
       "    </tr>\n",
       "    <tr>\n",
       "      <th>1</th>\n",
       "      <td>2</td>\n",
       "      <td>49.0</td>\n",
       "      <td>No</td>\n",
       "      <td>Travel_Frequently</td>\n",
       "      <td>279.0</td>\n",
       "      <td>Research &amp; Development</td>\n",
       "      <td>8</td>\n",
       "      <td>1</td>\n",
       "      <td>Life Sciences</td>\n",
       "      <td>3</td>\n",
       "      <td>...</td>\n",
       "      <td>4</td>\n",
       "      <td>4</td>\n",
       "      <td>1</td>\n",
       "      <td>10</td>\n",
       "      <td>3</td>\n",
       "      <td>3</td>\n",
       "      <td>10.0</td>\n",
       "      <td>7</td>\n",
       "      <td>1</td>\n",
       "      <td>7</td>\n",
       "    </tr>\n",
       "    <tr>\n",
       "      <th>2</th>\n",
       "      <td>4</td>\n",
       "      <td>37.0</td>\n",
       "      <td>Yes</td>\n",
       "      <td>Travel_Rarely</td>\n",
       "      <td>1373.0</td>\n",
       "      <td>Research &amp; Development</td>\n",
       "      <td>2</td>\n",
       "      <td>2</td>\n",
       "      <td>Other</td>\n",
       "      <td>4</td>\n",
       "      <td>...</td>\n",
       "      <td>3</td>\n",
       "      <td>2</td>\n",
       "      <td>0</td>\n",
       "      <td>7</td>\n",
       "      <td>3</td>\n",
       "      <td>3</td>\n",
       "      <td>0.0</td>\n",
       "      <td>0</td>\n",
       "      <td>0</td>\n",
       "      <td>0</td>\n",
       "    </tr>\n",
       "    <tr>\n",
       "      <th>3</th>\n",
       "      <td>5</td>\n",
       "      <td>33.0</td>\n",
       "      <td>No</td>\n",
       "      <td>Travel_Frequently</td>\n",
       "      <td>1392.0</td>\n",
       "      <td>Research &amp; Development</td>\n",
       "      <td>3</td>\n",
       "      <td>4</td>\n",
       "      <td>Life Sciences</td>\n",
       "      <td>4</td>\n",
       "      <td>...</td>\n",
       "      <td>3</td>\n",
       "      <td>3</td>\n",
       "      <td>0</td>\n",
       "      <td>8</td>\n",
       "      <td>3</td>\n",
       "      <td>3</td>\n",
       "      <td>8.0</td>\n",
       "      <td>7</td>\n",
       "      <td>3</td>\n",
       "      <td>0</td>\n",
       "    </tr>\n",
       "    <tr>\n",
       "      <th>4</th>\n",
       "      <td>7</td>\n",
       "      <td>27.0</td>\n",
       "      <td>No</td>\n",
       "      <td>Travel_Rarely</td>\n",
       "      <td>591.0</td>\n",
       "      <td>Research &amp; Development</td>\n",
       "      <td>2</td>\n",
       "      <td>1</td>\n",
       "      <td>Medical</td>\n",
       "      <td>1</td>\n",
       "      <td>...</td>\n",
       "      <td>3</td>\n",
       "      <td>4</td>\n",
       "      <td>1</td>\n",
       "      <td>6</td>\n",
       "      <td>3</td>\n",
       "      <td>3</td>\n",
       "      <td>2.0</td>\n",
       "      <td>2</td>\n",
       "      <td>2</td>\n",
       "      <td>2</td>\n",
       "    </tr>\n",
       "  </tbody>\n",
       "</table>\n",
       "<p>5 rows × 32 columns</p>\n",
       "</div>"
      ],
      "text/plain": [
       "   EmployeeNumber   Age Attrition     BusinessTravel  DailyRate  \\\n",
       "0               1  41.0       Yes      Travel_Rarely      802.0   \n",
       "1               2  49.0        No  Travel_Frequently      279.0   \n",
       "2               4  37.0       Yes      Travel_Rarely     1373.0   \n",
       "3               5  33.0        No  Travel_Frequently     1392.0   \n",
       "4               7  27.0        No      Travel_Rarely      591.0   \n",
       "\n",
       "               Department  DistanceFromHome  Education EducationField  \\\n",
       "0                   Sales                 1          2  Life Sciences   \n",
       "1  Research & Development                 8          1  Life Sciences   \n",
       "2  Research & Development                 2          2          Other   \n",
       "3  Research & Development                 3          4  Life Sciences   \n",
       "4  Research & Development                 2          1        Medical   \n",
       "\n",
       "   EnvironmentSatisfaction  ... PerformanceRating  RelationshipSatisfaction  \\\n",
       "0                        2  ...                 3                         1   \n",
       "1                        3  ...                 4                         4   \n",
       "2                        4  ...                 3                         2   \n",
       "3                        4  ...                 3                         3   \n",
       "4                        1  ...                 3                         4   \n",
       "\n",
       "   StockOptionLevel  TotalWorkingYears TrainingTimesLastYear  WorkLifeBalance  \\\n",
       "0                 0                  8                     0                1   \n",
       "1                 1                 10                     3                3   \n",
       "2                 0                  7                     3                3   \n",
       "3                 0                  8                     3                3   \n",
       "4                 1                  6                     3                3   \n",
       "\n",
       "  YearsAtCompany  YearsInCurrentRole  YearsSinceLastPromotion  \\\n",
       "0            6.0                   4                        0   \n",
       "1           10.0                   7                        1   \n",
       "2            0.0                   0                        0   \n",
       "3            8.0                   7                        3   \n",
       "4            2.0                   2                        2   \n",
       "\n",
       "   YearsWithCurrManager  \n",
       "0                     5  \n",
       "1                     7  \n",
       "2                     0  \n",
       "3                     0  \n",
       "4                     2  \n",
       "\n",
       "[5 rows x 32 columns]"
      ]
     },
     "execution_count": 27,
     "metadata": {},
     "output_type": "execute_result"
    }
   ],
   "source": [
    "\n",
    "data = pd.read_csv(r\"Clean_data.csv\")\n",
    "data.head()"
   ]
  },
  {
   "cell_type": "code",
   "execution_count": 28,
   "metadata": {},
   "outputs": [],
   "source": [
    "from sklearn.preprocessing import LabelEncoder\n",
    "encoder=LabelEncoder()\n",
    "for col in data.select_dtypes(\"object\").columns:\n",
    "    data[col]=encoder.fit_transform(data[col])"
   ]
  },
  {
   "cell_type": "code",
   "execution_count": 29,
   "metadata": {},
   "outputs": [
    {
     "name": "stdout",
     "output_type": "stream",
     "text": [
      "<class 'pandas.core.frame.DataFrame'>\n",
      "RangeIndex: 1470 entries, 0 to 1469\n",
      "Data columns (total 32 columns):\n",
      " #   Column                    Non-Null Count  Dtype  \n",
      "---  ------                    --------------  -----  \n",
      " 0   EmployeeNumber            1470 non-null   int64  \n",
      " 1   Age                       1470 non-null   float64\n",
      " 2   Attrition                 1470 non-null   int32  \n",
      " 3   BusinessTravel            1470 non-null   int32  \n",
      " 4   DailyRate                 1470 non-null   float64\n",
      " 5   Department                1470 non-null   int32  \n",
      " 6   DistanceFromHome          1470 non-null   int64  \n",
      " 7   Education                 1470 non-null   int64  \n",
      " 8   EducationField            1470 non-null   int32  \n",
      " 9   EnvironmentSatisfaction   1470 non-null   int64  \n",
      " 10  Gender                    1470 non-null   int32  \n",
      " 11  HourlyRate                1470 non-null   int64  \n",
      " 12  JobInvolvement            1470 non-null   int64  \n",
      " 13  JobLevel                  1470 non-null   int64  \n",
      " 14  JobRole                   1470 non-null   int32  \n",
      " 15  JobSatisfaction           1470 non-null   float64\n",
      " 16  MaritalStatus             1470 non-null   int32  \n",
      " 17  MonthlyIncome             1470 non-null   int64  \n",
      " 18  MonthlyRate               1470 non-null   int64  \n",
      " 19  NumCompaniesWorked        1470 non-null   int64  \n",
      " 20  OverTime                  1470 non-null   int32  \n",
      " 21  PercentSalaryHike         1470 non-null   int64  \n",
      " 22  PerformanceRating         1470 non-null   int64  \n",
      " 23  RelationshipSatisfaction  1470 non-null   int64  \n",
      " 24  StockOptionLevel          1470 non-null   int64  \n",
      " 25  TotalWorkingYears         1470 non-null   int64  \n",
      " 26  TrainingTimesLastYear     1470 non-null   int64  \n",
      " 27  WorkLifeBalance           1470 non-null   int64  \n",
      " 28  YearsAtCompany            1470 non-null   float64\n",
      " 29  YearsInCurrentRole        1470 non-null   int64  \n",
      " 30  YearsSinceLastPromotion   1470 non-null   int64  \n",
      " 31  YearsWithCurrManager      1470 non-null   int64  \n",
      "dtypes: float64(4), int32(8), int64(20)\n",
      "memory usage: 321.7 KB\n"
     ]
    }
   ],
   "source": [
    "data.info()"
   ]
  },
  {
   "cell_type": "code",
   "execution_count": 30,
   "metadata": {},
   "outputs": [
    {
     "data": {
      "text/plain": [
       "Attrition\n",
       "0    1233\n",
       "1     237\n",
       "Name: count, dtype: int64"
      ]
     },
     "execution_count": 30,
     "metadata": {},
     "output_type": "execute_result"
    }
   ],
   "source": [
    "data['Attrition'].value_counts()"
   ]
  },
  {
   "cell_type": "code",
   "execution_count": 31,
   "metadata": {},
   "outputs": [
    {
     "name": "stdout",
     "output_type": "stream",
     "text": [
      "Accuracy: 0.9648648648648649\n",
      "Classification Report:\n",
      "              precision    recall  f1-score   support\n",
      "\n",
      "           0       0.98      0.95      0.96       369\n",
      "           1       0.95      0.98      0.97       371\n",
      "\n",
      "    accuracy                           0.96       740\n",
      "   macro avg       0.97      0.96      0.96       740\n",
      "weighted avg       0.97      0.96      0.96       740\n",
      "\n"
     ]
    },
    {
     "data": {
      "image/png": "[encoded data removed]",
      "text/plain": [
       "<Figure size 600x400 with 2 Axes>"
      ]
     },
     "metadata": {},
     "output_type": "display_data"
    }
   ],
   "source": [
    "\n",
    "from sklearn.model_selection import train_test_split\n",
    "from sklearn.linear_model import LogisticRegression\n",
    "from sklearn.metrics import accuracy_score, confusion_matrix, classification_report\n",
    "from sklearn.decomposition import PCA\n",
    "from sklearn.feature_selection import SelectPercentile, mutual_info_regression\n",
    "from sklearn.ensemble import RandomForestClassifier\n",
    "\n",
    "\n",
    "\n",
    "# Split data into features (X) and target (y)\n",
    "X = data.drop(columns='Attrition')\n",
    "y = data['Attrition']\n",
    "from imblearn.over_sampling import RandomOverSampler\n",
    "from sklearn.svm import SVC\n",
    "\n",
    "\n",
    "rus = RandomOverSampler(sampling_strategy='auto', random_state=42)\n",
    "X_overesampled, y_overesampled = rus.fit_resample(X, y)\n",
    "\n",
    "# Split into training and test sets\n",
    "X_train, X_test, y_train, y_test = train_test_split(X_overesampled, y_overesampled, test_size=0.3, random_state=42)\n",
    "\n",
    "\n",
    "\n",
    "\n",
    "\n",
    "# apply pca\n",
    "pca = PCA(n_components=20)\n",
    "x_train_pca = pca.fit_transform(X_train)\n",
    "x_test_pca = pca.transform(X_test)\n",
    "x_train_pca = pd.DataFrame(x_train_pca)\n",
    "x_test_pca = pd.DataFrame(x_test_pca)\n",
    "\n",
    "\n",
    "model = RandomForestClassifier()\n",
    "model.fit(x_train_pca, y_train)\n",
    "\n",
    "# Make predictions\n",
    "y_pred = model.predict(x_test_pca)\n",
    "\n",
    "# Print evaluation metrics\n",
    "print(f'Accuracy: {accuracy_score(y_test, y_pred)}')\n",
    "print('Classification Report:')\n",
    "print(classification_report(y_test, y_pred))\n",
    "\n",
    "# Plot confusion matrix\n",
    "conf_matrix = confusion_matrix(y_test, y_pred)\n",
    "plt.figure(figsize=(6, 4))\n",
    "sns.heatmap(conf_matrix, annot=True, fmt='d', cmap='Blues')\n",
    "plt.title('Confusion Matrix for Attrition Prediction')\n",
    "plt.xlabel('Predicted')\n",
    "plt.ylabel('Actual')\n",
    "plt.show()"
   ]
  },
  {
   "cell_type": "code",
   "execution_count": 32,
   "metadata": {},
   "outputs": [
    {
     "data": {
      "text/plain": [
       "(1726, 31)"
      ]
     },
     "execution_count": 32,
     "metadata": {},
     "output_type": "execute_result"
    }
   ],
   "source": [
    "X_train.shape"
   ]
  },
  {
   "cell_type": "code",
   "execution_count": 33,
   "metadata": {},
   "outputs": [
    {
     "data": {
      "text/plain": [
       "<matplotlib.legend.Legend at 0x17f12f2d7d0>"
      ]
     },
     "execution_count": 33,
     "metadata": {},
     "output_type": "execute_result"
    },
    {
     "data": {
      "image/png": "[encoded data removed]",
      "text/plain": [
       "<Figure size 640x480 with 1 Axes>"
      ]
     },
     "metadata": {},
     "output_type": "display_data"
    }
   ],
   "source": [
    "y_pred = y_pred.squeeze()\n",
    "x_test_view = X_test[\"Age\"].values.squeeze()\n",
    "sns.scatterplot(x = x_test_view, y = y_pred, hue = y_test)\n",
    "plt.xlabel('Radius')\n",
    "plt.ylabel('Predicted')\n",
    "plt.legend()"
   ]
  },
  {
   "cell_type": "code",
   "execution_count": 34,
   "metadata": {},
   "outputs": [
    {
     "name": "stdout",
     "output_type": "stream",
     "text": [
      "Mean Squared Error: 2307326.37\n",
      "R^2 Score: 0.89\n"
     ]
    },
    {
     "data": {
      "application/vnd.plotly.v1+json": {
       "config": {
        "plotlyServerURL": "https://plot.ly"
       },
       "data": [
        {
         "hovertemplate": "x=%{x}<br>y=%{y}<extra></extra>",
         "legendgroup": "",
         "marker": {
          "color": "#636efa",
          "symbol": "circle"
         },
         "mode": "markers",
         "name": "",
         "orientation": "v",
         "showlegend": false,
         "type": "scatter",
         "x": [
          6272.378499591493,
          5858.746367643512,
          1277.9334075864826,
          10729.289379094957,
          6657.3759227915825,
          2439.9279547043907,
          2046.8631942632128,
          2959.829779264803,
          11224.924690938034,
          2163.702802470053,
          2332.3982717266754,
          11055.790796873438,
          6825.147284237467,
          2394.7495273177565,
          2000.0351877785179,
          2170.2112009294087,
          6563.172696848609,
          3041.5830427877777,
          9376.301724010174,
          13757.514473507934,
          1630.681158665886,
          7143.452520101576,
          6355.00027784241,
          6548.465704652818,
          6602.132800927773,
          19291.975209445263,
          2038.868973209911,
          6004.055131420064,
          1841.3972908481865,
          6055.620821429613,
          6439.212372624929,
          5951.968131416643,
          6419.624807928537,
          10238.8814964003,
          6855.790484379908,
          10130.672935408369,
          9501.43525440292,
          1930.7871374283595,
          1970.3079339388178,
          2157.436036032219,
          6657.7836167848245,
          6786.294976923958,
          5703.510268391618,
          2006.4260895446205,
          2080.7324427710164,
          6583.582303159747,
          9781.389359110752,
          6293.3363886931675,
          6473.480470420049,
          1511.222561719911,
          14775.398265425092,
          1820.9536986620005,
          17664.203961437004,
          6577.548451027769,
          2932.244268573268,
          5802.020485088583,
          6457.446812011839,
          6125.677052538405,
          7086.107084949264,
          6434.496347733895,
          9599.716768600245,
          2030.747043856517,
          9807.484559981234,
          14805.25326356124,
          7104.284819296953,
          5579.8355793557785,
          6148.927987761368,
          6257.736943755877,
          2071.692573089317,
          13717.81799260915,
          6572.550696633581,
          19235.867054858776,
          7160.495989079017,
          6408.733555290011,
          6612.935033567977,
          14153.245702551118,
          6033.558368538521,
          6633.025302320581,
          10362.500491748628,
          9868.894286104942,
          18034.808027019004,
          6200.877789320192,
          15520.551612302354,
          2342.887235767591,
          9747.834798763033,
          2287.703096670846,
          10802.40014129053,
          5894.850716298363,
          6214.002031300003,
          6489.191771455945,
          5739.924480059143,
          1662.1683764588279,
          14431.200797210882,
          2156.103024834305,
          10217.226075274464,
          9672.589989444055,
          6375.973483670718,
          5822.029317138617,
          6572.98549235669,
          10551.44673406198,
          18661.07877405126,
          9911.156025688724,
          9758.587433393368,
          2942.0071558649583,
          11091.864480739927,
          9728.524993289971,
          5842.5193232963575,
          6267.059862068201,
          9849.622061035398,
          18339.06951268205,
          6316.390752937301,
          6126.881009940005,
          6419.639696381138,
          6045.870666757668,
          1951.4737721637284,
          1795.2447645762331,
          7213.389194634035,
          9878.019541887817,
          14373.457979508126,
          3069.30385336302,
          2345.7502834012575,
          10309.338944549372,
          2388.7026664164523,
          14559.042789189849,
          6550.348633813357,
          1604.5648082793005,
          6227.0701590010685,
          14983.724673844243,
          7208.201508789149,
          6529.385946262125,
          2085.134946129908,
          1876.3256052063352,
          10564.348210437196,
          5653.200748705293,
          2497.1744923358497,
          6045.683614701942,
          1877.2966661003475,
          10116.765373340135,
          1566.4704368548637,
          13868.551025552726,
          2301.125636794447,
          9196.652220093134,
          5645.72322193998,
          9843.644298415598,
          14672.915469237416,
          1908.6427468418442,
          6180.489048328673,
          2302.962910724569,
          1892.4558711532154,
          6045.729537410911,
          6415.0511077065385,
          11129.74052834246,
          2787.6400361165815,
          2237.296939308504,
          6181.183969803647,
          2549.679646443667,
          6428.632447334267,
          2491.8705432722386,
          18086.43305004989,
          2686.6007384079217,
          5867.687588505685,
          6235.19889119533,
          6264.1641281694265,
          3096.4808373607593,
          6297.722610610175,
          6470.86005071729,
          2210.030167598924,
          5659.70249826618,
          14755.667322197634,
          9785.20130418002,
          5863.461815314318,
          14296.829819503258,
          2387.552685433099,
          2474.7206479984598,
          6211.157194732635,
          2581.8866232401874,
          6227.25577713407,
          9875.184195781383,
          11514.473713158626,
          2193.167668650118,
          14583.050330874968,
          6216.1809121512215,
          17667.620489487897,
          10184.770842595804,
          10087.600460286569,
          1401.2401131660326,
          10614.059019848377,
          10821.140610251226,
          6479.627328590138,
          5924.767821886215,
          7096.848030726127,
          11230.199659382499,
          8852.531196828093,
          5764.815918964956,
          5665.394155101387,
          1624.4596785074618,
          2616.7526556564835,
          18272.971393101376,
          6656.6992150003025,
          6631.633026445409,
          1935.0465701179155,
          6113.153922174028,
          6413.637966330402,
          17042.72804094313,
          14727.178568638912,
          2712.024231057307,
          9643.726343464057,
          2121.0450624415307,
          2596.213433286308,
          19107.399486856895,
          11126.65206732632,
          2262.8660493984808,
          2421.8903250943354,
          10431.086707869847,
          5884.007252924082,
          2809.5944504210306,
          6292.2111667529725,
          7291.962811217718,
          6046.630674669243,
          11027.298146500612,
          6290.0849432618215,
          2582.544584164002,
          9987.544485544737,
          6386.732449389703,
          6272.31849845218,
          2117.7664030228007,
          6716.244120184542,
          6220.793173581522,
          10209.56676410443,
          1920.239054371601,
          6238.095901400965,
          6528.354194924031,
          18058.863799440616,
          10655.362865708492,
          6341.9350641259625,
          6223.8104133588495,
          5965.352040630602,
          2125.2633453285807,
          14620.886677924655,
          18050.990737024826,
          2658.823949884685,
          5516.684554154432,
          6290.829727778041,
          18573.021944594737,
          9678.493362740272,
          6117.629395175499,
          2492.2378687661067,
          6424.0523803445185,
          6059.392534588542,
          6617.829506899408,
          6160.404572879128,
          17732.101050913945,
          19420.771499948816,
          6103.685804300958,
          6922.829602267576,
          5652.139342454527,
          1969.1888935443321,
          1582.1782776263008,
          1773.0887780360927,
          13130.998444378305,
          6450.709410871338,
          2157.14324752021,
          1655.8083310591664,
          6302.09825081746,
          6369.958510064498,
          11372.154395757723,
          19392.939255083063,
          9938.160077369817,
          6518.758219427664,
          6318.062394066066,
          1657.8441052996932,
          18303.851381662007,
          2509.6523039002745,
          5720.979372985147,
          10084.25213692235,
          6938.6885850354765,
          2109.2385865281867,
          6010.627401528687,
          5984.089734876906,
          9997.299310268347,
          1099.3098068803392,
          5903.118910764344,
          2552.3573133993245,
          6400.304180202289,
          14927.889282609774,
          2193.9930836086796,
          6149.855749521568,
          2575.265592005412,
          6019.009300483853,
          6007.2640814340275,
          6251.606755956345,
          14112.31529071997,
          1870.5851192887949,
          6103.916516064454,
          2070.292749860312,
          1776.4978179494283,
          6482.5697138897885,
          6018.8798217080675,
          6261.1514812964715,
          5732.106335362888,
          6834.817270625396,
          1292.5791164989914,
          2520.1717637296024,
          6284.3683268178465,
          6757.023067690006,
          6624.045505042822,
          6474.605370886247,
          2087.1785082464557,
          5795.359531678523,
          1985.755750055072,
          14662.748336998762,
          2378.1963480185104,
          2412.3466574173644,
          1936.6426457163006,
          15182.079085884163,
          6263.170931183037,
          18984.383698801998,
          2447.0753175068344,
          18059.142985328734,
          15747.846974422388,
          10118.765661647358,
          2653.8699608186776,
          5642.422336024918,
          9734.79723762305,
          10389.809701929886,
          6142.240736064135,
          6665.503866129952,
          10231.284146710155,
          6824.5272956820545,
          9872.219264999088,
          2773.9436127442264,
          2691.6706531688433,
          14454.316289530454,
          17736.473038843615,
          5662.019245243061,
          1812.0383922735173,
          6670.68702923925,
          5977.25992525339,
          2684.5877282610845,
          5941.127829760868,
          6127.834097423722,
          6236.040281193886,
          5461.736744793096,
          1857.7976796796493,
          2067.1783273075425,
          6424.434498311327,
          2609.653158422832,
          7172.590194018038,
          3077.512909384077,
          6591.51971267262,
          2218.0568853569703,
          2402.793437441917,
          18774.626962280803,
          11502.640966850286,
          6455.119685062457,
          1968.5841608522533,
          2453.719163988027,
          14960.893804462441,
          5735.278387109486,
          5986.846319961591,
          2517.3983492455827,
          1867.813771867669,
          6120.696098317234,
          2709.6487401318154,
          2344.608855489365,
          5304.702563131944,
          2400.7470856475575,
          5791.324626036773,
          2820.368625572622,
          7182.296570122535,
          6578.688250175035,
          5898.545057124239,
          6215.215197560614,
          15004.067181445347,
          6440.869574563547,
          2597.7875759902086,
          6389.472268323511,
          9163.14475609585,
          5900.443915475944,
          1761.9860372728863,
          2410.2897824005445,
          2255.062881807825,
          10308.754966629707,
          1752.3876569743115,
          5941.744210043163,
          7023.677447674581,
          6344.226858525757,
          2166.019523290627,
          2127.343427393038,
          15203.4222913502,
          2099.642051314341,
          11084.639761272254,
          2232.4304936213457,
          2876.411522536953,
          6236.531212916584,
          5918.610136135899,
          12535.076992895672,
          2238.821688863979,
          2368.2403593810714,
          6463.00120578045,
          9880.458701022026,
          2365.335756560128,
          6345.553432877715,
          1979.4822205718183,
          2071.0187820858564,
          6263.049654975944,
          6439.35747023762,
          10730.33628095347,
          6238.643929132415,
          2562.003681202849,
          2085.718920516055,
          10115.101341496156,
          6350.251311872662,
          5950.6979962637615,
          2052.0053701318066,
          2723.9795893768624,
          6710.001330158818,
          5381.126545543835,
          2365.924831798932,
          2433.7475028529875,
          2068.188194513101,
          10559.405712943975,
          6189.426918333167,
          2210.464690453201,
          14062.710631796122,
          10100.957186706188,
          5965.563805518099,
          2298.620092432966,
          9601.299128794273,
          5986.4772532595225,
          7339.263639377613,
          5824.8482637309335,
          2237.525693938066,
          2450.42591114038,
          10363.035863478557,
          6163.298924213516,
          5877.287848067126,
          6117.206978406543,
          2055.8849470081923,
          6125.138768681819,
          2471.9193867561694
         ],
         "xaxis": "x",
         "y": [
          8463,
          4450,
          1555,
          9724,
          5914,
          2579,
          4230,
          2232,
          8865,
          2269,
          3294,
          10231,
          5933,
          2213,
          3375,
          4968,
          6294,
          2743,
          11849,
          17007,
          3479,
          5070,
          9204,
          5605,
          6392,
          19586,
          2318,
          4037,
          3420,
          5957,
          5294,
          5472,
          4244,
          7491,
          6134,
          7823,
          13757,
          2107,
          3441,
          3591,
          8686,
          5473,
          4087,
          2821,
          2851,
          5249,
          9094,
          5324,
          6796,
          1859,
          17861,
          4821,
          19537,
          6125,
          2974,
          4998,
          2741,
          5968,
          6142,
          5042,
          9756,
          1416,
          7446,
          17639,
          4777,
          5916,
          6214,
          4284,
          3310,
          16437,
          5507,
          18947,
          9602,
          4312,
          6623,
          14756,
          4724,
          6500,
          10252,
          11916,
          18606,
          6389,
          17875,
          2096,
          7336,
          3162,
          7082,
          5985,
          5175,
          4011,
          5993,
          1232,
          13341,
          2476,
          7428,
          7143,
          8620,
          4449,
          4591,
          9071,
          19045,
          7655,
          7654,
          2534,
          10999,
          8740,
          5258,
          4648,
          13664,
          19202,
          5440,
          5769,
          6932,
          9957,
          1702,
          3452,
          5473,
          9980,
          15379,
          3838,
          2066,
          8500,
          2838,
          12965,
          5980,
          2564,
          4950,
          12169,
          4553,
          6929,
          3812,
          1514,
          10266,
          4508,
          4420,
          5429,
          3230,
          9824,
          2696,
          13973,
          2154,
          7406,
          4374,
          8726,
          13966,
          2718,
          4869,
          2625,
          2956,
          5744,
          5484,
          10096,
          4257,
          3730,
          6120,
          4031,
          8346,
          2523,
          19627,
          2370,
          4855,
          5337,
          5154,
          2587,
          3986,
          6877,
          2206,
          3902,
          17046,
          8095,
          5974,
          16823,
          2660,
          3597,
          5055,
          2308,
          5484,
          9439,
          10447,
          3760,
          13402,
          5253,
          19232,
          8376,
          8020,
          1706,
          7945,
          10496,
          8926,
          3660,
          6513,
          7637,
          7988,
          5410,
          6549,
          2290,
          2559,
          18430,
          5363,
          6553,
          3708,
          4968,
          4538,
          19189,
          14814,
          2496,
          9069,
          2570,
          3673,
          19566,
          10124,
          2351,
          3669,
          7351,
          9936,
          2564,
          6653,
          6377,
          6410,
          10466,
          2042,
          2886,
          13603,
          5765,
          5321,
          2235,
          4779,
          5878,
          10377,
          3452,
          5094,
          4233,
          18061,
          9888,
          4272,
          3069,
          6306,
          3691,
          13726,
          19513,
          2707,
          4490,
          5326,
          19190,
          9434,
          4440,
          2768,
          5562,
          4876,
          5390,
          6782,
          19141,
          19068,
          5915,
          6516,
          5775,
          2201,
          2479,
          3617,
          17603,
          6334,
          3579,
          1274,
          5063,
          9998,
          7403,
          19517,
          8412,
          4425,
          4978,
          2859,
          19161,
          4876,
          6074,
          7140,
          5476,
          3423,
          4765,
          6472,
          9241,
          4258,
          4736,
          2367,
          9715,
          13964,
          2977,
          4898,
          2332,
          4306,
          6274,
          5121,
          16880,
          4680,
          4537,
          2296,
          1051,
          6931,
          5295,
          4197,
          3886,
          6687,
          2177,
          2322,
          9679,
          6644,
          6201,
          4850,
          4401,
          6077,
          3348,
          13194,
          2622,
          2774,
          2791,
          16856,
          5006,
          18213,
          2207,
          19328,
          16291,
          7094,
          2115,
          4285,
          11935,
          8008,
          6465,
          4960,
          10400,
          5033,
          11244,
          3294,
          2818,
          17779,
          19740,
          9547,
          3102,
          6893,
          6834,
          3629,
          5329,
          4684,
          5772,
          4319,
          2700,
          2061,
          4617,
          3722,
          6439,
          2655,
          5343,
          2187,
          2288,
          18303,
          10748,
          4260,
          3622,
          3955,
          12936,
          5206,
          6032,
          2783,
          2741,
          6397,
          4364,
          3936,
          3319,
          2187,
          5467,
          2062,
          6815,
          4759,
          4105,
          5396,
          11245,
          6578,
          2716,
          4157,
          12808,
          6804,
          2695,
          2430,
          2871,
          7879,
          2073,
          4523,
          5231,
          5582,
          2741,
          1420,
          13770,
          2585,
          10552,
          2543,
          3161,
          6323,
          2897,
          10312,
          2275,
          2789,
          7625,
          7756,
          2377,
          5296,
          3058,
          2439,
          6474,
          5869,
          9396,
          4663,
          4200,
          2141,
          9852,
          6799,
          5743,
          2380,
          2362,
          6583,
          6261,
          3424,
          2506,
          4678,
          7644,
          4127,
          2426,
          17181,
          10325,
          4554,
          3688,
          11691,
          4485,
          9824,
          5485,
          3500,
          2342,
          10854,
          6567,
          4373,
          6349,
          3464,
          5204,
          2074
         ],
         "yaxis": "y"
        },
        {
         "hovertemplate": "<b>OLS trendline</b><br>y = 0.963993 * x + 141.941<br>R<sup>2</sup>=0.887655<br><br>x=%{x}<br>y=%{y} <b>(trend)</b><extra></extra>",
         "legendgroup": "",
         "marker": {
          "color": "#636efa",
          "symbol": "circle"
         },
         "mode": "lines",
         "name": "",
         "showlegend": false,
         "type": "scatter",
         "x": [
          1099.3098068803392,
          1277.9334075864826,
          1292.5791164989914,
          1401.2401131660326,
          1511.222561719911,
          1566.4704368548637,
          1582.1782776263008,
          1604.5648082793005,
          1624.4596785074618,
          1630.681158665886,
          1655.8083310591664,
          1657.8441052996932,
          1662.1683764588279,
          1752.3876569743115,
          1761.9860372728863,
          1773.0887780360927,
          1776.4978179494283,
          1795.2447645762331,
          1812.0383922735173,
          1820.9536986620005,
          1841.3972908481865,
          1857.7976796796493,
          1867.813771867669,
          1870.5851192887949,
          1876.3256052063352,
          1877.2966661003475,
          1892.4558711532154,
          1908.6427468418442,
          1920.239054371601,
          1930.7871374283595,
          1935.0465701179155,
          1936.6426457163006,
          1951.4737721637284,
          1968.5841608522533,
          1969.1888935443321,
          1970.3079339388178,
          1979.4822205718183,
          1985.755750055072,
          2000.0351877785179,
          2006.4260895446205,
          2030.747043856517,
          2038.868973209911,
          2046.8631942632128,
          2052.0053701318066,
          2055.8849470081923,
          2067.1783273075425,
          2068.188194513101,
          2070.292749860312,
          2071.0187820858564,
          2071.692573089317,
          2080.7324427710164,
          2085.134946129908,
          2085.718920516055,
          2087.1785082464557,
          2099.642051314341,
          2109.2385865281867,
          2117.7664030228007,
          2121.0450624415307,
          2125.2633453285807,
          2127.343427393038,
          2156.103024834305,
          2157.14324752021,
          2157.436036032219,
          2163.702802470053,
          2166.019523290627,
          2170.2112009294087,
          2193.167668650118,
          2193.9930836086796,
          2210.030167598924,
          2210.464690453201,
          2218.0568853569703,
          2232.4304936213457,
          2237.296939308504,
          2237.525693938066,
          2238.821688863979,
          2255.062881807825,
          2262.8660493984808,
          2287.703096670846,
          2298.620092432966,
          2301.125636794447,
          2302.962910724569,
          2332.3982717266754,
          2342.887235767591,
          2344.608855489365,
          2345.7502834012575,
          2365.335756560128,
          2365.924831798932,
          2368.2403593810714,
          2378.1963480185104,
          2387.552685433099,
          2388.7026664164523,
          2394.7495273177565,
          2400.7470856475575,
          2402.793437441917,
          2410.2897824005445,
          2412.3466574173644,
          2421.8903250943354,
          2433.7475028529875,
          2439.9279547043907,
          2447.0753175068344,
          2450.42591114038,
          2453.719163988027,
          2471.9193867561694,
          2474.7206479984598,
          2491.8705432722386,
          2492.2378687661067,
          2497.1744923358497,
          2509.6523039002745,
          2517.3983492455827,
          2520.1717637296024,
          2549.679646443667,
          2552.3573133993245,
          2562.003681202849,
          2575.265592005412,
          2581.8866232401874,
          2582.544584164002,
          2596.213433286308,
          2597.7875759902086,
          2609.653158422832,
          2616.7526556564835,
          2653.8699608186776,
          2658.823949884685,
          2684.5877282610845,
          2686.6007384079217,
          2691.6706531688433,
          2709.6487401318154,
          2712.024231057307,
          2723.9795893768624,
          2773.9436127442264,
          2787.6400361165815,
          2809.5944504210306,
          2820.368625572622,
          2876.411522536953,
          2932.244268573268,
          2942.0071558649583,
          2959.829779264803,
          3041.5830427877777,
          3069.30385336302,
          3077.512909384077,
          3096.4808373607593,
          5304.702563131944,
          5381.126545543835,
          5461.736744793096,
          5516.684554154432,
          5579.8355793557785,
          5642.422336024918,
          5645.72322193998,
          5652.139342454527,
          5653.200748705293,
          5659.70249826618,
          5662.019245243061,
          5665.394155101387,
          5703.510268391618,
          5720.979372985147,
          5732.106335362888,
          5735.278387109486,
          5739.924480059143,
          5764.815918964956,
          5791.324626036773,
          5795.359531678523,
          5802.020485088583,
          5822.029317138617,
          5824.8482637309335,
          5842.5193232963575,
          5858.746367643512,
          5863.461815314318,
          5867.687588505685,
          5877.287848067126,
          5884.007252924082,
          5894.850716298363,
          5898.545057124239,
          5900.443915475944,
          5903.118910764344,
          5918.610136135899,
          5924.767821886215,
          5941.127829760868,
          5941.744210043163,
          5950.6979962637615,
          5951.968131416643,
          5965.352040630602,
          5965.563805518099,
          5977.25992525339,
          5984.089734876906,
          5986.4772532595225,
          5986.846319961591,
          6004.055131420064,
          6007.2640814340275,
          6010.627401528687,
          6018.8798217080675,
          6019.009300483853,
          6033.558368538521,
          6045.683614701942,
          6045.729537410911,
          6045.870666757668,
          6046.630674669243,
          6055.620821429613,
          6059.392534588542,
          6103.685804300958,
          6103.916516064454,
          6113.153922174028,
          6117.206978406543,
          6117.629395175499,
          6120.696098317234,
          6125.138768681819,
          6125.677052538405,
          6126.881009940005,
          6127.834097423722,
          6142.240736064135,
          6148.927987761368,
          6149.855749521568,
          6160.404572879128,
          6163.298924213516,
          6180.489048328673,
          6181.183969803647,
          6189.426918333167,
          6200.877789320192,
          6211.157194732635,
          6214.002031300003,
          6215.215197560614,
          6216.1809121512215,
          6220.793173581522,
          6223.8104133588495,
          6227.0701590010685,
          6227.25577713407,
          6235.19889119533,
          6236.040281193886,
          6236.531212916584,
          6238.095901400965,
          6238.643929132415,
          6251.606755956345,
          6257.736943755877,
          6261.1514812964715,
          6263.049654975944,
          6263.170931183037,
          6264.1641281694265,
          6267.059862068201,
          6272.31849845218,
          6272.378499591493,
          6284.3683268178465,
          6290.0849432618215,
          6290.829727778041,
          6292.2111667529725,
          6293.3363886931675,
          6297.722610610175,
          6302.09825081746,
          6316.390752937301,
          6318.062394066066,
          6341.9350641259625,
          6344.226858525757,
          6345.553432877715,
          6350.251311872662,
          6355.00027784241,
          6369.958510064498,
          6375.973483670718,
          6386.732449389703,
          6389.472268323511,
          6400.304180202289,
          6408.733555290011,
          6413.637966330402,
          6415.0511077065385,
          6419.624807928537,
          6419.639696381138,
          6424.0523803445185,
          6424.434498311327,
          6428.632447334267,
          6434.496347733895,
          6439.212372624929,
          6439.35747023762,
          6440.869574563547,
          6450.709410871338,
          6455.119685062457,
          6457.446812011839,
          6463.00120578045,
          6470.86005071729,
          6473.480470420049,
          6474.605370886247,
          6479.627328590138,
          6482.5697138897885,
          6489.191771455945,
          6518.758219427664,
          6528.354194924031,
          6529.385946262125,
          6548.465704652818,
          6550.348633813357,
          6563.172696848609,
          6572.550696633581,
          6572.98549235669,
          6577.548451027769,
          6578.688250175035,
          6583.582303159747,
          6591.51971267262,
          6602.132800927773,
          6612.935033567977,
          6617.829506899408,
          6624.045505042822,
          6631.633026445409,
          6633.025302320581,
          6656.6992150003025,
          6657.3759227915825,
          6657.7836167848245,
          6665.503866129952,
          6670.68702923925,
          6710.001330158818,
          6716.244120184542,
          6757.023067690006,
          6786.294976923958,
          6824.5272956820545,
          6825.147284237467,
          6834.817270625396,
          6855.790484379908,
          6922.829602267576,
          6938.6885850354765,
          7023.677447674581,
          7086.107084949264,
          7096.848030726127,
          7104.284819296953,
          7143.452520101576,
          7160.495989079017,
          7172.590194018038,
          7182.296570122535,
          7208.201508789149,
          7213.389194634035,
          7291.962811217718,
          7339.263639377613,
          8852.531196828093,
          9163.14475609585,
          9196.652220093134,
          9376.301724010174,
          9501.43525440292,
          9599.716768600245,
          9601.299128794273,
          9643.726343464057,
          9672.589989444055,
          9678.493362740272,
          9728.524993289971,
          9734.79723762305,
          9747.834798763033,
          9758.587433393368,
          9781.389359110752,
          9785.20130418002,
          9807.484559981234,
          9843.644298415598,
          9849.622061035398,
          9868.894286104942,
          9872.219264999088,
          9875.184195781383,
          9878.019541887817,
          9880.458701022026,
          9911.156025688724,
          9938.160077369817,
          9987.544485544737,
          9997.299310268347,
          10084.25213692235,
          10087.600460286569,
          10100.957186706188,
          10115.101341496156,
          10116.765373340135,
          10118.765661647358,
          10130.672935408369,
          10184.770842595804,
          10209.56676410443,
          10217.226075274464,
          10231.284146710155,
          10238.8814964003,
          10308.754966629707,
          10309.338944549372,
          10362.500491748628,
          10363.035863478557,
          10389.809701929886,
          10431.086707869847,
          10551.44673406198,
          10559.405712943975,
          10564.348210437196,
          10614.059019848377,
          10655.362865708492,
          10729.289379094957,
          10730.33628095347,
          10802.40014129053,
          10821.140610251226,
          11027.298146500612,
          11055.790796873438,
          11084.639761272254,
          11091.864480739927,
          11126.65206732632,
          11129.74052834246,
          11224.924690938034,
          11230.199659382499,
          11372.154395757723,
          11502.640966850286,
          11514.473713158626,
          12535.076992895672,
          13130.998444378305,
          13717.81799260915,
          13757.514473507934,
          13868.551025552726,
          14062.710631796122,
          14112.31529071997,
          14153.245702551118,
          14296.829819503258,
          14373.457979508126,
          14431.200797210882,
          14454.316289530454,
          14559.042789189849,
          14583.050330874968,
          14620.886677924655,
          14662.748336998762,
          14672.915469237416,
          14727.178568638912,
          14755.667322197634,
          14775.398265425092,
          14805.25326356124,
          14927.889282609774,
          14960.893804462441,
          14983.724673844243,
          15004.067181445347,
          15182.079085884163,
          15203.4222913502,
          15520.551612302354,
          15747.846974422388,
          17042.72804094313,
          17664.203961437004,
          17667.620489487897,
          17732.101050913945,
          17736.473038843615,
          18034.808027019004,
          18050.990737024826,
          18058.863799440616,
          18059.142985328734,
          18086.43305004989,
          18272.971393101376,
          18303.851381662007,
          18339.06951268205,
          18573.021944594737,
          18661.07877405126,
          18774.626962280803,
          18984.383698801998,
          19107.399486856895,
          19235.867054858776,
          19291.975209445263,
          19392.939255083063,
          19420.771499948816
         ],
         "xaxis": "x",
         "y": [
          1201.668259412012,
          1373.8601348425827,
          1387.9784936411152,
          1492.7269184197303,
          1598.7492133800358,
          1652.0077704544276,
          1667.1500167796944,
          1688.7304724545609,
          1707.9089852742115,
          1713.9064477158938,
          1738.128862455949,
          1740.0913342852243,
          1744.2599008006127,
          1831.2306429116445,
          1840.483412972116,
          1851.1863757770204,
          1854.472665907632,
          1872.544588573534,
          1888.733525741111,
          1897.3278174304637,
          1917.0352942989225,
          1932.8451520081844,
          1942.5005933469688,
          1945.172152469206,
          1950.7059398977228,
          1951.6420356646663,
          1966.2554010753445,
          1981.8594336397302,
          1993.0381912827554,
          2003.2064680197623,
          2007.3125307135242,
          2008.8511361919068,
          2023.1482361699316,
          2039.6425286708989,
          2040.2254866673316,
          2041.304233615928,
          2050.1481804114737,
          2056.1958180305787,
          2069.9610940186,
          2076.1218776801506,
          2099.567103947402,
          2107.3965858408737,
          2115.102957845093,
          2120.059978659289,
          2123.7998630619154,
          2134.6866010182002,
          2135.6601057923367,
          2137.688882117252,
          2138.388771997678,
          2139.0383017130994,
          2147.7526715275367,
          2151.996653324791,
          2152.5596004625518,
          2153.966632610933,
          2165.9813991193046,
          2175.232390531274,
          2183.453144730217,
          2186.6137489951484,
          2190.680143573168,
          2192.6853278282856,
          2220.409374373439,
          2221.4121416138446,
          2221.694387648456,
          2227.735505740075,
          2229.968808066121,
          2234.009555374813,
          2256.1394263127145,
          2256.9351204380223,
          2272.394754874911,
          2272.8136318032657,
          2280.1324534704268,
          2293.9885091873803,
          2298.679728075814,
          2298.9002459050485,
          2300.1495757582106,
          2315.805969768716,
          2323.3281675993626,
          2347.2709037948002,
          2357.794809745165,
          2360.2101366161514,
          2361.9812555637977,
          2390.356733355598,
          2400.4680197835337,
          2402.127648900283,
          2403.227977255778,
          2422.1082335102087,
          2422.6760978335024,
          2424.908249886219,
          2434.505751831476,
          2443.525194280348,
          2444.6337677356482,
          2450.46289846052,
          2456.2445018585595,
          2458.217170374189,
          2465.4435933787513,
          2467.426406205681,
          2476.6264336896597,
          2488.056668370321,
          2494.014579817041,
          2500.9045865153166,
          2504.1345348496084,
          2507.3092070757957,
          2524.854091846405,
          2527.5544876786134,
          2544.0868642456276,
          2544.440963398441,
          2549.199833264508,
          2561.2283545016444,
          2568.6954868957173,
          2571.3690386518224,
          2599.8144268560327,
          2602.3956786785825,
          2611.69470835112,
          2624.479095654134,
          2630.861722480003,
          2631.495992111697,
          2644.672665048771,
          2646.190127373505,
          2657.6284640998524,
          2664.4723287316474,
          2700.2531458327508,
          2705.0287559132,
          2729.8648542746255,
          2731.805381680155,
          2736.6927433026117,
          2754.023490743432,
          2756.3134470309083,
          2767.8383270711183,
          2816.003288776469,
          2829.2065430936677,
          2850.370441694514,
          2860.7566695962905,
          2914.781622036511,
          2968.603990482929,
          2978.0153441099283,
          2995.196225786145,
          3074.0057879769183,
          3100.728451401777,
          3108.6419227806564,
          3126.9268698896894,
          5255.636843397655,
          5329.309016656694,
          5407.016673050864,
          5459.985968862425,
          5520.8631061600445,
          5581.196292622371,
          5584.378323071035,
          5590.563417425985,
          5591.586605471633,
          5597.85424561573,
          5600.087573156269,
          5603.340962157593,
          5640.084623161082,
          5656.924715232683,
          5667.65102750102,
          5670.70886273136,
          5675.187663154504,
          5699.182832496144,
          5724.737036800004,
          5728.626657023153,
          5735.04776854089,
          5754.336139742962,
          5757.053584126294,
          5774.0883593485305,
          5789.731114212868,
          5794.2767720919,
          5798.350387269788,
          5807.604968926242,
          5814.082427221353,
          5824.535448474977,
          5828.096766647785,
          5829.927252538028,
          5832.505928892422,
          5847.439359519173,
          5853.37532460703,
          5869.1462553623105,
          5869.74044155253,
          5878.371827525236,
          5879.596228741874,
          5892.498221642216,
          5892.7023614814325,
          5903.977337377779,
          5910.561225079391,
          5912.8627757496415,
          5913.218553414726,
          5929.807724763031,
          5932.901129659601,
          5936.14334621152,
          5944.098620329335,
          5944.223436944512,
          5958.248634646253,
          5969.9372853546865,
          5969.981554518173,
          5970.117602200564,
          5970.850244399684,
          5979.516681673059,
          5983.152586222372,
          6025.850981902348,
          6026.073386394718,
          6034.97817991491,
          6038.885297177933,
          6039.292503926494,
          6042.248783854099,
          6046.531486357987,
          6047.050388151553,
          6048.210994488569,
          6049.129764016345,
          6063.01766077991,
          6069.464123658672,
          6070.358479369844,
          6080.527469751536,
          6083.317603767719,
          6099.888760650524,
          6100.5586599895805,
          6108.504803504573,
          6119.543361359048,
          6129.452634765709,
          6132.195036900098,
          6133.3645205114335,
          6134.295462480077,
          6138.74164956017,
          6141.650247157732,
          6144.792618677181,
          6144.971553231792,
          6152.628658460667,
          6153.4397524104415,
          6153.913007085107,
          6155.421355609743,
          6155.94965042909,
          6168.445722912627,
          6174.355180172307,
          6177.646769976334,
          6179.4765958474345,
          6179.593505244972,
          6180.550940046881,
          6183.34240684526,
          6188.411694764578,
          6188.469535434373,
          6200.027643254575,
          6205.53842068104,
          6206.256387635757,
          6207.588084941969,
          6208.6727908564835,
          6212.901077460037,
          6217.119163370988,
          6230.897033343833,
          6232.5084834538475,
          6255.521566903617,
          6257.730840338044,
          6259.009648539529,
          6263.5383703405,
          6268.116339620337,
          6282.535968657403,
          6288.334360257539,
          6298.7059263749015,
          6301.347092260527,
          6311.7889779549805,
          6319.9148353407045,
          6324.642652558524,
          6326.004910753093,
          6330.413925103771,
          6330.428277465751,
          6334.682073293028,
          6335.050432284115,
          6339.097225162349,
          6344.749983270227,
          6349.296197585435,
          6349.4360706478465,
          6350.893728419265,
          6360.37926034825,
          6364.630733172276,
          6366.874066932177,
          6372.228462858113,
          6379.804333252858,
          6382.330399132448,
          6383.4147951483255,
          6388.255926510293,
          6391.092364925951,
          6397.475981127942,
          6425.977825822284,
          6435.228277670601,
          6436.222878592215,
          6454.615629421713,
          6456.430759685431,
          6468.793064867671,
          6477.833389686888,
          6478.252529658848,
          6482.651189231152,
          6483.749947469179,
          6488.467779595296,
          6496.119385680263,
          6506.350326964284,
          6516.76360208471,
          6521.481839422062,
          6527.4740172404245,
          6534.788333685822,
          6536.1304776864745,
          6558.951960441192,
          6559.60430191924,
          6559.997316017157,
          6567.439581251279,
          6572.436113472801,
          6610.334818794048,
          6616.3528237956225,
          6655.66343796582,
          6683.881349420419,
          6720.737031665042,
          6721.334696204777,
          6730.656494024008,
          6750.874522302011,
          6815.49975318222,
          6830.787699312689,
          6912.716355944205,
          6972.898080432352,
          6983.2522754542,
          6990.421286526246,
          7028.178670383639,
          7044.608452761032,
          7056.267179950827,
          7065.624057196949,
          7090.596233070038,
          7095.597125176368,
          7171.341530425285,
          7216.939190969989,
          8675.718309269754,
          8975.147562140259,
          9007.448518138266,
          9180.629356937598,
          9301.257186588298,
          9395.999864391744,
          9397.525248318276,
          9438.424780263687,
          9466.24912885711,
          9471.9399385554,
          9520.170073101703,
          9526.216471845217,
          9538.78458767571,
          9549.150050668828,
          9571.130944219194,
          9574.805632042757,
          9596.286531498044,
          9631.144261112035,
          9636.906781587004,
          9655.485068920401,
          9658.690324828842,
          9661.548496928759,
          9664.281750326583,
          9666.633082312574,
          9696.225084064657,
          9722.25679703433,
          9769.863013833517,
          9779.266595202465,
          9863.088499118589,
          9866.316258929462,
          9879.192047810187,
          9892.826912016468,
          9894.431026830289,
          9896.359290473283,
          9907.837817342455,
          9959.987813528,
          9983.890904780894,
          9991.27442604942,
          10004.826306516945,
          10012.150097361358,
          10079.507623657322,
          10080.070574201369,
          10131.317926045373,
          10131.834020569639,
          10157.643809629897,
          10197.43454857404,
          10313.460754265587,
          10321.133153068351,
          10325.897685354701,
          10373.818550614633,
          10413.635163050123,
          10484.899794004463,
          10485.908999919564,
          10555.378046636515,
          10573.443724878549,
          10772.178117537707,
          10799.6448290153,
          10827.455024669312,
          10834.419602640422,
          10867.954587672266,
          10870.931842035412,
          10962.688695014676,
          10967.773726923666,
          11104.617079011918,
          11230.405201668209,
          11241.81188460525,
          12225.666157577976,
          12800.130181001805,
          13365.820034692646,
          13404.087158784498,
          13511.125601982107,
          13698.294075799362,
          13746.112612747582,
          13785.569237446049,
          13923.983300774138,
          13997.852299774662,
          14053.515963666649,
          14075.79913318217,
          14176.75473094384,
          14199.897829677131,
          14236.3717980227,
          14276.726138412827,
          14286.527181281761,
          14338.83642158193,
          14366.299376558556,
          14385.319864920222,
          14414.099869912377,
          14532.32011646337,
          14564.136239825755,
          14586.145034861916,
          14605.755066912257,
          14777.357271509587,
          14797.931969155185,
          15103.642369756783,
          15322.753475598314,
          16571.009576260803,
          17170.10792531284,
          17173.40143395458,
          17235.560234677858,
          17239.774799819268,
          17527.367597844815,
          17542.967614720725,
          17550.557190663643,
          17550.826323865967,
          17577.133751363683,
          17756.9553818916,
          17786.72347033293,
          17820.673497124055,
          18046.201970703878,
          18131.088125437334,
          18240.547767980057,
          18442.751763997356,
          18561.338105158342,
          18685.179923254036,
          18739.267783575975,
          18836.596402530595,
          18863.426487815694
         ],
         "yaxis": "y"
        }
       ],
       "layout": {
        "legend": {
         "tracegroupgap": 0
        },
        "margin": {
         "t": 60
        },
        "template": {
         "data": {
          "bar": [
           {
            "error_x": {
             "color": "#2a3f5f"
            },
            "error_y": {
             "color": "#2a3f5f"
            },
            "marker": {
             "line": {
              "color": "#E5ECF6",
              "width": 0.5
             },
             "pattern": {
              "fillmode": "overlay",
              "size": 10,
              "solidity": 0.2
             }
            },
            "type": "bar"
           }
          ],
          "barpolar": [
           {
            "marker": {
             "line": {
              "color": "#E5ECF6",
              "width": 0.5
             },
             "pattern": {
              "fillmode": "overlay",
              "size": 10,
              "solidity": 0.2
             }
            },
            "type": "barpolar"
           }
          ],
          "carpet": [
           {
            "aaxis": {
             "endlinecolor": "#2a3f5f",
             "gridcolor": "white",
             "linecolor": "white",
             "minorgridcolor": "white",
             "startlinecolor": "#2a3f5f"
            },
            "baxis": {
             "endlinecolor": "#2a3f5f",
             "gridcolor": "white",
             "linecolor": "white",
             "minorgridcolor": "white",
             "startlinecolor": "#2a3f5f"
            },
            "type": "carpet"
           }
          ],
          "choropleth": [
           {
            "colorbar": {
             "outlinewidth": 0,
             "ticks": ""
            },
            "type": "choropleth"
           }
          ],
          "contour": [
           {
            "colorbar": {
             "outlinewidth": 0,
             "ticks": ""
            },
            "colorscale": [
             [
              0,
              "#0d0887"
             ],
             [
              0.1111111111111111,
              "#46039f"
             ],
             [
              0.2222222222222222,
              "#7201a8"
             ],
             [
              0.3333333333333333,
              "#9c179e"
             ],
             [
              0.4444444444444444,
              "#bd3786"
             ],
             [
              0.5555555555555556,
              "#d8576b"
             ],
             [
              0.6666666666666666,
              "#ed7953"
             ],
             [
              0.7777777777777778,
              "#fb9f3a"
             ],
             [
              0.8888888888888888,
              "#fdca26"
             ],
             [
              1,
              "#f0f921"
             ]
            ],
            "type": "contour"
           }
          ],
          "contourcarpet": [
           {
            "colorbar": {
             "outlinewidth": 0,
             "ticks": ""
            },
            "type": "contourcarpet"
           }
          ],
          "heatmap": [
           {
            "colorbar": {
             "outlinewidth": 0,
             "ticks": ""
            },
            "colorscale": [
             [
              0,
              "#0d0887"
             ],
             [
              0.1111111111111111,
              "#46039f"
             ],
             [
              0.2222222222222222,
              "#7201a8"
             ],
             [
              0.3333333333333333,
              "#9c179e"
             ],
             [
              0.4444444444444444,
              "#bd3786"
             ],
             [
              0.5555555555555556,
              "#d8576b"
             ],
             [
              0.6666666666666666,
              "#ed7953"
             ],
             [
              0.7777777777777778,
              "#fb9f3a"
             ],
             [
              0.8888888888888888,
              "#fdca26"
             ],
             [
              1,
              "#f0f921"
             ]
            ],
            "type": "heatmap"
           }
          ],
          "heatmapgl": [
           {
            "colorbar": {
             "outlinewidth": 0,
             "ticks": ""
            },
            "colorscale": [
             [
              0,
              "#0d0887"
             ],
             [
              0.1111111111111111,
              "#46039f"
             ],
             [
              0.2222222222222222,
              "#7201a8"
             ],
             [
              0.3333333333333333,
              "#9c179e"
             ],
             [
              0.4444444444444444,
              "#bd3786"
             ],
             [
              0.5555555555555556,
              "#d8576b"
             ],
             [
              0.6666666666666666,
              "#ed7953"
             ],
             [
              0.7777777777777778,
              "#fb9f3a"
             ],
             [
              0.8888888888888888,
              "#fdca26"
             ],
             [
              1,
              "#f0f921"
             ]
            ],
            "type": "heatmapgl"
           }
          ],
          "histogram": [
           {
            "marker": {
             "pattern": {
              "fillmode": "overlay",
              "size": 10,
              "solidity": 0.2
             }
            },
            "type": "histogram"
           }
          ],
          "histogram2d": [
           {
            "colorbar": {
             "outlinewidth": 0,
             "ticks": ""
            },
            "colorscale": [
             [
              0,
              "#0d0887"
             ],
             [
              0.1111111111111111,
              "#46039f"
             ],
             [
              0.2222222222222222,
              "#7201a8"
             ],
             [
              0.3333333333333333,
              "#9c179e"
             ],
             [
              0.4444444444444444,
              "#bd3786"
             ],
             [
              0.5555555555555556,
              "#d8576b"
             ],
             [
              0.6666666666666666,
              "#ed7953"
             ],
             [
              0.7777777777777778,
              "#fb9f3a"
             ],
             [
              0.8888888888888888,
              "#fdca26"
             ],
             [
              1,
              "#f0f921"
             ]
            ],
            "type": "histogram2d"
           }
          ],
          "histogram2dcontour": [
           {
            "colorbar": {
             "outlinewidth": 0,
             "ticks": ""
            },
            "colorscale": [
             [
              0,
              "#0d0887"
             ],
             [
              0.1111111111111111,
              "#46039f"
             ],
             [
              0.2222222222222222,
              "#7201a8"
             ],
             [
              0.3333333333333333,
              "#9c179e"
             ],
             [
              0.4444444444444444,
              "#bd3786"
             ],
             [
              0.5555555555555556,
              "#d8576b"
             ],
             [
              0.6666666666666666,
              "#ed7953"
             ],
             [
              0.7777777777777778,
              "#fb9f3a"
             ],
             [
              0.8888888888888888,
              "#fdca26"
             ],
             [
              1,
              "#f0f921"
             ]
            ],
            "type": "histogram2dcontour"
           }
          ],
          "mesh3d": [
           {
            "colorbar": {
             "outlinewidth": 0,
             "ticks": ""
            },
            "type": "mesh3d"
           }
          ],
          "parcoords": [
           {
            "line": {
             "colorbar": {
              "outlinewidth": 0,
              "ticks": ""
             }
            },
            "type": "parcoords"
           }
          ],
          "pie": [
           {
            "automargin": true,
            "type": "pie"
           }
          ],
          "scatter": [
           {
            "fillpattern": {
             "fillmode": "overlay",
             "size": 10,
             "solidity": 0.2
            },
            "type": "scatter"
           }
          ],
          "scatter3d": [
           {
            "line": {
             "colorbar": {
              "outlinewidth": 0,
              "ticks": ""
             }
            },
            "marker": {
             "colorbar": {
              "outlinewidth": 0,
              "ticks": ""
             }
            },
            "type": "scatter3d"
           }
          ],
          "scattercarpet": [
           {
            "marker": {
             "colorbar": {
              "outlinewidth": 0,
              "ticks": ""
             }
            },
            "type": "scattercarpet"
           }
          ],
          "scattergeo": [
           {
            "marker": {
             "colorbar": {
              "outlinewidth": 0,
              "ticks": ""
             }
            },
            "type": "scattergeo"
           }
          ],
          "scattergl": [
           {
            "marker": {
             "colorbar": {
              "outlinewidth": 0,
              "ticks": ""
             }
            },
            "type": "scattergl"
           }
          ],
          "scattermapbox": [
           {
            "marker": {
             "colorbar": {
              "outlinewidth": 0,
              "ticks": ""
             }
            },
            "type": "scattermapbox"
           }
          ],
          "scatterpolar": [
           {
            "marker": {
             "colorbar": {
              "outlinewidth": 0,
              "ticks": ""
             }
            },
            "type": "scatterpolar"
           }
          ],
          "scatterpolargl": [
           {
            "marker": {
             "colorbar": {
              "outlinewidth": 0,
              "ticks": ""
             }
            },
            "type": "scatterpolargl"
           }
          ],
          "scatterternary": [
           {
            "marker": {
             "colorbar": {
              "outlinewidth": 0,
              "ticks": ""
             }
            },
            "type": "scatterternary"
           }
          ],
          "surface": [
           {
            "colorbar": {
             "outlinewidth": 0,
             "ticks": ""
            },
            "colorscale": [
             [
              0,
              "#0d0887"
             ],
             [
              0.1111111111111111,
              "#46039f"
             ],
             [
              0.2222222222222222,
              "#7201a8"
             ],
             [
              0.3333333333333333,
              "#9c179e"
             ],
             [
              0.4444444444444444,
              "#bd3786"
             ],
             [
              0.5555555555555556,
              "#d8576b"
             ],
             [
              0.6666666666666666,
              "#ed7953"
             ],
             [
              0.7777777777777778,
              "#fb9f3a"
             ],
             [
              0.8888888888888888,
              "#fdca26"
             ],
             [
              1,
              "#f0f921"
             ]
            ],
            "type": "surface"
           }
          ],
          "table": [
           {
            "cells": {
             "fill": {
              "color": "#EBF0F8"
             },
             "line": {
              "color": "white"
             }
            },
            "header": {
             "fill": {
              "color": "#C8D4E3"
             },
             "line": {
              "color": "white"
             }
            },
            "type": "table"
           }
          ]
         },
         "layout": {
          "annotationdefaults": {
           "arrowcolor": "#2a3f5f",
           "arrowhead": 0,
           "arrowwidth": 1
          },
          "autotypenumbers": "strict",
          "coloraxis": {
           "colorbar": {
            "outlinewidth": 0,
            "ticks": ""
           }
          },
          "colorscale": {
           "diverging": [
            [
             0,
             "#8e0152"
            ],
            [
             0.1,
             "#c51b7d"
            ],
            [
             0.2,
             "#de77ae"
            ],
            [
             0.3,
             "#f1b6da"
            ],
            [
             0.4,
             "#fde0ef"
            ],
            [
             0.5,
             "#f7f7f7"
            ],
            [
             0.6,
             "#e6f5d0"
            ],
            [
             0.7,
             "#b8e186"
            ],
            [
             0.8,
             "#7fbc41"
            ],
            [
             0.9,
             "#4d9221"
            ],
            [
             1,
             "#276419"
            ]
           ],
           "sequential": [
            [
             0,
             "#0d0887"
            ],
            [
             0.1111111111111111,
             "#46039f"
            ],
            [
             0.2222222222222222,
             "#7201a8"
            ],
            [
             0.3333333333333333,
             "#9c179e"
            ],
            [
             0.4444444444444444,
             "#bd3786"
            ],
            [
             0.5555555555555556,
             "#d8576b"
            ],
            [
             0.6666666666666666,
             "#ed7953"
            ],
            [
             0.7777777777777778,
             "#fb9f3a"
            ],
            [
             0.8888888888888888,
             "#fdca26"
            ],
            [
             1,
             "#f0f921"
            ]
           ],
           "sequentialminus": [
            [
             0,
             "#0d0887"
            ],
            [
             0.1111111111111111,
             "#46039f"
            ],
            [
             0.2222222222222222,
             "#7201a8"
            ],
            [
             0.3333333333333333,
             "#9c179e"
            ],
            [
             0.4444444444444444,
             "#bd3786"
            ],
            [
             0.5555555555555556,
             "#d8576b"
            ],
            [
             0.6666666666666666,
             "#ed7953"
            ],
            [
             0.7777777777777778,
             "#fb9f3a"
            ],
            [
             0.8888888888888888,
             "#fdca26"
            ],
            [
             1,
             "#f0f921"
            ]
           ]
          },
          "colorway": [
           "#636efa",
           "#EF553B",
           "#00cc96",
           "#ab63fa",
           "#FFA15A",
           "#19d3f3",
           "#FF6692",
           "#B6E880",
           "#FF97FF",
           "#FECB52"
          ],
          "font": {
           "color": "#2a3f5f"
          },
          "geo": {
           "bgcolor": "white",
           "lakecolor": "white",
           "landcolor": "#E5ECF6",
           "showlakes": true,
           "showland": true,
           "subunitcolor": "white"
          },
          "hoverlabel": {
           "align": "left"
          },
          "hovermode": "closest",
          "mapbox": {
           "style": "light"
          },
          "paper_bgcolor": "white",
          "plot_bgcolor": "#E5ECF6",
          "polar": {
           "angularaxis": {
            "gridcolor": "white",
            "linecolor": "white",
            "ticks": ""
           },
           "bgcolor": "#E5ECF6",
           "radialaxis": {
            "gridcolor": "white",
            "linecolor": "white",
            "ticks": ""
           }
          },
          "scene": {
           "xaxis": {
            "backgroundcolor": "#E5ECF6",
            "gridcolor": "white",
            "gridwidth": 2,
            "linecolor": "white",
            "showbackground": true,
            "ticks": "",
            "zerolinecolor": "white"
           },
           "yaxis": {
            "backgroundcolor": "#E5ECF6",
            "gridcolor": "white",
            "gridwidth": 2,
            "linecolor": "white",
            "showbackground": true,
            "ticks": "",
            "zerolinecolor": "white"
           },
           "zaxis": {
            "backgroundcolor": "#E5ECF6",
            "gridcolor": "white",
            "gridwidth": 2,
            "linecolor": "white",
            "showbackground": true,
            "ticks": "",
            "zerolinecolor": "white"
           }
          },
          "shapedefaults": {
           "line": {
            "color": "#2a3f5f"
           }
          },
          "ternary": {
           "aaxis": {
            "gridcolor": "white",
            "linecolor": "white",
            "ticks": ""
           },
           "baxis": {
            "gridcolor": "white",
            "linecolor": "white",
            "ticks": ""
           },
           "bgcolor": "#E5ECF6",
           "caxis": {
            "gridcolor": "white",
            "linecolor": "white",
            "ticks": ""
           }
          },
          "title": {
           "x": 0.05
          },
          "xaxis": {
           "automargin": true,
           "gridcolor": "white",
           "linecolor": "white",
           "ticks": "",
           "title": {
            "standoff": 15
           },
           "zerolinecolor": "white",
           "zerolinewidth": 2
          },
          "yaxis": {
           "automargin": true,
           "gridcolor": "white",
           "linecolor": "white",
           "ticks": "",
           "title": {
            "standoff": 15
           },
           "zerolinecolor": "white",
           "zerolinewidth": 2
          }
         }
        },
        "xaxis": {
         "anchor": "y",
         "domain": [
          0,
          1
         ],
         "title": {
          "text": "x"
         }
        },
        "yaxis": {
         "anchor": "x",
         "domain": [
          0,
          1
         ],
         "title": {
          "text": "y"
         }
        }
       }
      }
     },
     "metadata": {},
     "output_type": "display_data"
    }
   ],
   "source": [
    "from sklearn.linear_model import LinearRegression\n",
    "from sklearn.metrics import accuracy_score,mean_squared_error,r2_score\n",
    "\n",
    "\n",
    "# تقسيم الميزات (X) والهدف (y)\n",
    "X = data.drop('MonthlyIncome', axis=1)\n",
    "y = data['MonthlyIncome']\n",
    "\n",
    "# تقسيم البيانات إلى تدريب واختبار\n",
    "X_train, X_test, y_train, y_test = train_test_split(X, y, test_size=0.3, random_state=42)\n",
    "pca = PCA(n_components=25)\n",
    "x_train_pca = pca.fit_transform(X_train)\n",
    "x_test_pca = pca.transform(X_test)\n",
    "x_train_pca = pd.DataFrame(x_train_pca)\n",
    "x_test_pca = pd.DataFrame(x_test_pca)\n",
    "\n",
    "# بناء نموذج الانحدار الخطي\n",
    "model = LinearRegression()\n",
    "model.fit(x_train_pca, y_train)\n",
    "\n",
    "# التنبؤ بالقيم\n",
    "y_pred = model.predict(x_test_pca)\n",
    "\n",
    "# تقييم النموذج\n",
    "mse = mean_squared_error(y_test, y_pred)\n",
    "r2 = r2_score(y_test, y_pred)\n",
    "# print(f'Accuracy: {accuracy_score(y_test, y_pred)}')\n",
    "print(f'Mean Squared Error: {mse:.2f}')\n",
    "print(f'R^2 Score: {r2:.2f}')\n",
    "px.scatter(x=y_pred,y=y_test,trendline='ols')\n"
   ]
  },
  {
   "cell_type": "code",
   "execution_count": 35,
   "metadata": {},
   "outputs": [
    {
     "data": {
      "text/plain": [
       "PerformanceRating\n",
       "3    1244\n",
       "4     226\n",
       "Name: count, dtype: int64"
      ]
     },
     "execution_count": 35,
     "metadata": {},
     "output_type": "execute_result"
    }
   ],
   "source": [
    "data[\"PerformanceRating\"].value_counts()"
   ]
  },
  {
   "cell_type": "code",
   "execution_count": 36,
   "metadata": {},
   "outputs": [
    {
     "data": {
      "text/plain": [
       "JobSatisfaction\n",
       "4.0    510\n",
       "3.0    424\n",
       "1.0    276\n",
       "2.0    260\n",
       "Name: count, dtype: int64"
      ]
     },
     "execution_count": 36,
     "metadata": {},
     "output_type": "execute_result"
    }
   ],
   "source": [
    "data[\"JobSatisfaction\"].value_counts()"
   ]
  },
  {
   "cell_type": "code",
   "execution_count": 37,
   "metadata": {},
   "outputs": [
    {
     "name": "stdout",
     "output_type": "stream",
     "text": [
      "              precision    recall  f1-score   support\n",
      "\n",
      "           3       1.00      0.89      0.94       381\n",
      "           4       0.90      1.00      0.95       366\n",
      "\n",
      "    accuracy                           0.94       747\n",
      "   macro avg       0.95      0.94      0.94       747\n",
      "weighted avg       0.95      0.94      0.94       747\n",
      "\n"
     ]
    },
    {
     "name": "stderr",
     "output_type": "stream",
     "text": [
      "c:\\Users\\ahmed\\AppData\\Local\\Programs\\Python\\Python311\\Lib\\site-packages\\sklearn\\linear_model\\_logistic.py:469: ConvergenceWarning:\n",
      "\n",
      "lbfgs failed to converge (status=1):\n",
      "STOP: TOTAL NO. of ITERATIONS REACHED LIMIT.\n",
      "\n",
      "Increase the number of iterations (max_iter) or scale the data as shown in:\n",
      "    https://scikit-learn.org/stable/modules/preprocessing.html\n",
      "Please also refer to the documentation for alternative solver options:\n",
      "    https://scikit-learn.org/stable/modules/linear_model.html#logistic-regression\n",
      "\n"
     ]
    },
    {
     "data": {
      "image/png": "[encoded data removed]",
      "text/plain": [
       "<Figure size 600x400 with 2 Axes>"
      ]
     },
     "metadata": {},
     "output_type": "display_data"
    }
   ],
   "source": [
    "# Performance Rating Prediction\n",
    "from sklearn.model_selection import train_test_split\n",
    "from imblearn.over_sampling import RandomOverSampler\n",
    "from sklearn.metrics import classification_report\n",
    "\n",
    "# Assuming 'data' is your DataFrame\n",
    "# Features (X) and target (y)\n",
    "X = data.drop('PerformanceRating', axis=1)\n",
    "y = data['PerformanceRating']\n",
    "\n",
    "\n",
    "rus = RandomOverSampler(sampling_strategy='auto', random_state=42)\n",
    "X_overesampled, y_overesampled = rus.fit_resample(X, y)\n",
    "\n",
    "# Train-test split\n",
    "X_train, X_test, y_train, y_test = train_test_split(X_overesampled, y_overesampled, test_size=0.3, random_state=42)\n",
    "\n",
    "pca = PCA(n_components=25)\n",
    "x_train_pca = pca.fit_transform(X_train)\n",
    "x_test_pca = pca.transform(X_test)\n",
    "x_train_pca = pd.DataFrame(x_train_pca)\n",
    "x_test_pca = pd.DataFrame(x_test_pca)\n",
    "\n",
    "model = LogisticRegression(C=0.01, random_state=42)\n",
    "\n",
    "model.fit(x_train_pca, y_train)\n",
    "\n",
    "# Predictions and evaluation\n",
    "y_pred = model.predict(x_test_pca)\n",
    "\n",
    "# Print classification report\n",
    "print(classification_report(y_test, y_pred))\n",
    "conf_matrix = confusion_matrix(y_test, y_pred)\n",
    "plt.figure(figsize=(6, 4))\n",
    "sns.heatmap(conf_matrix, annot=True, fmt='d', cmap='Blues')\n",
    "plt.title('Confusion Matrix for Attrition Prediction')\n",
    "plt.xlabel('Predicted')\n",
    "plt.ylabel('Actual')\n",
    "plt.show()"
   ]
  },
  {
   "cell_type": "code",
   "execution_count": 38,
   "metadata": {},
   "outputs": [
    {
     "data": {
      "text/plain": [
       "<matplotlib.legend.Legend at 0x17f143ec850>"
      ]
     },
     "execution_count": 38,
     "metadata": {},
     "output_type": "execute_result"
    },
    {
     "data": {
      "image/png": "[encoded data removed]",
      "text/plain": [
       "<Figure size 640x480 with 1 Axes>"
      ]
     },
     "metadata": {},
     "output_type": "display_data"
    }
   ],
   "source": [
    "y_pred = y_pred.squeeze()\n",
    "x_test_view = X_test[\"Age\"].values.squeeze()\n",
    "sns.scatterplot(x = x_test_view, y = y_pred, hue = y_test)\n",
    "plt.xlabel('Radius')\n",
    "plt.ylabel('Predicted')\n",
    "plt.legend()"
   ]
  },
  {
   "cell_type": "code",
   "execution_count": 39,
   "metadata": {},
   "outputs": [
    {
     "data": {
      "text/plain": [
       "JobSatisfaction\n",
       "4.0    510\n",
       "3.0    424\n",
       "1.0    276\n",
       "2.0    260\n",
       "Name: count, dtype: int64"
      ]
     },
     "execution_count": 39,
     "metadata": {},
     "output_type": "execute_result"
    }
   ],
   "source": [
    "data['JobSatisfaction'].value_counts()"
   ]
  },
  {
   "cell_type": "code",
   "execution_count": 40,
   "metadata": {},
   "outputs": [
    {
     "data": {
      "text/plain": [
       "WorkLifeBalance\n",
       "3    893\n",
       "2    344\n",
       "4    153\n",
       "1     80\n",
       "Name: count, dtype: int64"
      ]
     },
     "execution_count": 40,
     "metadata": {},
     "output_type": "execute_result"
    }
   ],
   "source": [
    "data[\"WorkLifeBalance\"].value_counts()"
   ]
  },
  {
   "cell_type": "code",
   "execution_count": 41,
   "metadata": {},
   "outputs": [
    {
     "name": "stdout",
     "output_type": "stream",
     "text": [
      "              precision    recall  f1-score   support\n",
      "\n",
      "           1       1.00      1.00      1.00       249\n",
      "           2       0.78      0.89      0.83       245\n",
      "           3       0.90      0.81      0.85       311\n",
      "           4       0.99      0.99      0.99       267\n",
      "\n",
      "    accuracy                           0.92      1072\n",
      "   macro avg       0.92      0.92      0.92      1072\n",
      "weighted avg       0.92      0.92      0.92      1072\n",
      "\n"
     ]
    },
    {
     "data": {
      "image/png": "[encoded data removed]",
      "text/plain": [
       "<Figure size 1000x600 with 1 Axes>"
      ]
     },
     "metadata": {},
     "output_type": "display_data"
    }
   ],
   "source": [
    "from sklearn.ensemble import RandomForestClassifier\n",
    "# Split data into features and target\n",
    "X = data.drop('WorkLifeBalance', axis=1)\n",
    "y = data['WorkLifeBalance']\n",
    "rus = RandomOverSampler(sampling_strategy='auto', random_state=42)\n",
    "X_overesampled, y_overesampled = rus.fit_resample(X, y)\n",
    "\n",
    "X_train, X_test, y_train, y_test = train_test_split(X_overesampled, y_overesampled, test_size=0.3, random_state=42)\n",
    "\n",
    "# Train the Random Forest model\n",
    "model = RandomForestClassifier(n_estimators=100, random_state=42)\n",
    "model.fit(X_train, y_train)\n",
    "\n",
    "# Make predictions and evaluate the model\n",
    "y_pred = model.predict(X_test)\n",
    "\n",
    "\n",
    "print(classification_report(y_pred,y_test))\n",
    "importance = model.feature_importances_\n",
    "feature_importance = pd.Series(importance, index=X.columns).sort_values(ascending=False)\n",
    "\n",
    "# Plot feature importance\n",
    "plt.figure(figsize=(10, 6))\n",
    "feature_importance.plot(kind='bar')\n",
    "plt.title('Feature Importance in Random Forest')\n",
    "plt.ylabel('Importance')\n",
    "plt.show()"
   ]
  }
 ],
 "metadata": {
  "kernelspec": {
   "display_name": "Python 3",
   "language": "python",
   "name": "python3"
  },
  "language_info": {
   "codemirror_mode": {
    "name": "ipython",
    "version": 3
   },
   "file_extension": ".py",
   "mimetype": "text/x-python",
   "name": "python",
   "nbconvert_exporter": "python",
   "pygments_lexer": "ipython3",
   "version": "3.11.4"
  }
 },
 "nbformat": 4,
 "nbformat_minor": 2
}
